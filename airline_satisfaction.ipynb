{
 "cells": [
  {
   "cell_type": "markdown",
   "id": "212be3a5",
   "metadata": {},
   "source": [
    "<a id=\"0\"></a> <br>\n",
    "# Airline Passenger Satisfaction\n",
    "\n",
    "__Dataset Source:__ https://www.kaggle.com/datasets/teejmahal20/airline-passenger-satisfaction"
   ]
  },
  {
   "cell_type": "markdown",
   "id": "2711fe85",
   "metadata": {},
   "source": [
    "__Purpose:__\n",
    "\n",
    "1. Use factor analysis to investigate the underlying patterns of the dataset and identify the factors that are highly correlated to the satisfaction level of US airline passengers.\n",
    "2. Predict customers’ level of satisfaction with: \n",
    "   - Logistic Regression (with Principal Component Analysis (PCA) pre-processing)\n",
    "   - Linear Discriminant Analysis\n",
    "   - Random Forest"
   ]
  },
  {
   "cell_type": "markdown",
   "id": "060868c4",
   "metadata": {},
   "source": [
    "__Content:__\n",
    "1. [Global Environment](#11)    \n",
    "1. [Import Package](#12)\n",
    "1. [Read Data](#13) \n",
    "1. [Clean up missing value](#14) \n",
    "1. [Data pre-processing](#15)    \n",
    "    1. [Variable selections](#151)\n",
    "    1. [Correlation Analysis](#152) \n",
    "    1. [Standardize the data](#153) \n",
    "1. [Factor Analysis](#16)\n",
    "    1. [Use Screeplot to determine number of factors](#161) \n",
    "    1. [Factor analysis with 5 factors](#162)\n",
    "1. [Splitting Data into Training and Test Sets](#17)\n",
    "1. [Logistic regression (with using PCA pre-processing)](#18)\n",
    "    1. [Apply PCA](#181)\n",
    "    1. [Define function and use gridsearch for the best hyperparameters](#182)     \n",
    "    1. [Measuring Model Performance](#183)     \n",
    "    1. [Evaluation - classification accuracy](#184) \n",
    "1. [Linear Discriminant Analysis (LDA)](#19)      \n",
    "    1. [Apply LDA](#191)      \n",
    "    1. [Measuring Model Performance](#192)     \n",
    "    1. [Evaluation - classification accuracy](#193) \n",
    "1. [Random Forest](#110)\n",
    "    1. [Use GridSearch to determine the optimal value of n_estimators](#101) \n",
    "    1. [Apply Random Forest](#102)      \n",
    "    1. [Measuring Model Performance](#103)     \n",
    "    1. [Evaluation - classification accuracy](#104) \n",
    "    1. [Finding important features in Random Forest](#105) "
   ]
  },
  {
   "cell_type": "markdown",
   "id": "b4415ca9",
   "metadata": {},
   "source": [
    "<a id=\"11\"></a> <br>\n",
    "## 1. Global Environment"
   ]
  },
  {
   "cell_type": "code",
   "execution_count": 1,
   "id": "6e9be602",
   "metadata": {},
   "outputs": [
    {
     "name": "stdout",
     "output_type": "stream",
     "text": [
      "Python 3.9.12\r\n"
     ]
    }
   ],
   "source": [
    "! python --version"
   ]
  },
  {
   "cell_type": "markdown",
   "id": "0bb8e368",
   "metadata": {},
   "source": [
    "<a id=\"12\"></a> <br>\n",
    "## 2. Import Package"
   ]
  },
  {
   "cell_type": "code",
   "execution_count": 2,
   "id": "b9bd43cf",
   "metadata": {},
   "outputs": [],
   "source": [
    "import pandas as pd \n",
    "import numpy as np\n",
    "from factor_analyzer import FactorAnalyzer\n",
    "from sklearn.decomposition import PCA\n",
    "from sklearn.preprocessing import StandardScaler\n",
    "from sklearn.model_selection import train_test_split\n",
    "from sklearn.model_selection import RepeatedKFold\n",
    "from sklearn.linear_model import LogisticRegression\n",
    "from sklearn.discriminant_analysis import LinearDiscriminantAnalysis\n",
    "from sklearn.model_selection import GridSearchCV\n",
    "from sklearn.metrics import classification_report\n",
    "from sklearn.ensemble import RandomForestClassifier\n",
    "import seaborn as sns\n",
    "import matplotlib.pyplot as plt\n",
    "import time\n",
    "import warnings \n",
    "warnings.filterwarnings(\"ignore\")"
   ]
  },
  {
   "cell_type": "markdown",
   "id": "1012e685",
   "metadata": {},
   "source": [
    "<a id=\"13\"></a> <br>\n",
    "## 3. Read Data"
   ]
  },
  {
   "cell_type": "code",
   "execution_count": 3,
   "id": "8b919ff5",
   "metadata": {},
   "outputs": [
    {
     "data": {
      "text/html": [
       "<div>\n",
       "<style scoped>\n",
       "    .dataframe tbody tr th:only-of-type {\n",
       "        vertical-align: middle;\n",
       "    }\n",
       "\n",
       "    .dataframe tbody tr th {\n",
       "        vertical-align: top;\n",
       "    }\n",
       "\n",
       "    .dataframe thead th {\n",
       "        text-align: right;\n",
       "    }\n",
       "</style>\n",
       "<table border=\"1\" class=\"dataframe\">\n",
       "  <thead>\n",
       "    <tr style=\"text-align: right;\">\n",
       "      <th></th>\n",
       "      <th>Unnamed: 0</th>\n",
       "      <th>id</th>\n",
       "      <th>Gender</th>\n",
       "      <th>Customer Type</th>\n",
       "      <th>Age</th>\n",
       "      <th>Type of Travel</th>\n",
       "      <th>Class</th>\n",
       "      <th>Flight Distance</th>\n",
       "      <th>Inflight wifi service</th>\n",
       "      <th>Departure/Arrival time convenient</th>\n",
       "      <th>...</th>\n",
       "      <th>Inflight entertainment</th>\n",
       "      <th>On-board service</th>\n",
       "      <th>Leg room service</th>\n",
       "      <th>Baggage handling</th>\n",
       "      <th>Checkin service</th>\n",
       "      <th>Inflight service</th>\n",
       "      <th>Cleanliness</th>\n",
       "      <th>Departure Delay in Minutes</th>\n",
       "      <th>Arrival Delay in Minutes</th>\n",
       "      <th>satisfaction</th>\n",
       "    </tr>\n",
       "  </thead>\n",
       "  <tbody>\n",
       "    <tr>\n",
       "      <th>0</th>\n",
       "      <td>0</td>\n",
       "      <td>70172</td>\n",
       "      <td>Male</td>\n",
       "      <td>Loyal Customer</td>\n",
       "      <td>13</td>\n",
       "      <td>Personal Travel</td>\n",
       "      <td>Eco Plus</td>\n",
       "      <td>460</td>\n",
       "      <td>3</td>\n",
       "      <td>4</td>\n",
       "      <td>...</td>\n",
       "      <td>5</td>\n",
       "      <td>4</td>\n",
       "      <td>3</td>\n",
       "      <td>4</td>\n",
       "      <td>4</td>\n",
       "      <td>5</td>\n",
       "      <td>5</td>\n",
       "      <td>25</td>\n",
       "      <td>18.0</td>\n",
       "      <td>neutral or dissatisfied</td>\n",
       "    </tr>\n",
       "    <tr>\n",
       "      <th>1</th>\n",
       "      <td>1</td>\n",
       "      <td>5047</td>\n",
       "      <td>Male</td>\n",
       "      <td>disloyal Customer</td>\n",
       "      <td>25</td>\n",
       "      <td>Business travel</td>\n",
       "      <td>Business</td>\n",
       "      <td>235</td>\n",
       "      <td>3</td>\n",
       "      <td>2</td>\n",
       "      <td>...</td>\n",
       "      <td>1</td>\n",
       "      <td>1</td>\n",
       "      <td>5</td>\n",
       "      <td>3</td>\n",
       "      <td>1</td>\n",
       "      <td>4</td>\n",
       "      <td>1</td>\n",
       "      <td>1</td>\n",
       "      <td>6.0</td>\n",
       "      <td>neutral or dissatisfied</td>\n",
       "    </tr>\n",
       "    <tr>\n",
       "      <th>2</th>\n",
       "      <td>2</td>\n",
       "      <td>110028</td>\n",
       "      <td>Female</td>\n",
       "      <td>Loyal Customer</td>\n",
       "      <td>26</td>\n",
       "      <td>Business travel</td>\n",
       "      <td>Business</td>\n",
       "      <td>1142</td>\n",
       "      <td>2</td>\n",
       "      <td>2</td>\n",
       "      <td>...</td>\n",
       "      <td>5</td>\n",
       "      <td>4</td>\n",
       "      <td>3</td>\n",
       "      <td>4</td>\n",
       "      <td>4</td>\n",
       "      <td>4</td>\n",
       "      <td>5</td>\n",
       "      <td>0</td>\n",
       "      <td>0.0</td>\n",
       "      <td>satisfied</td>\n",
       "    </tr>\n",
       "    <tr>\n",
       "      <th>3</th>\n",
       "      <td>3</td>\n",
       "      <td>24026</td>\n",
       "      <td>Female</td>\n",
       "      <td>Loyal Customer</td>\n",
       "      <td>25</td>\n",
       "      <td>Business travel</td>\n",
       "      <td>Business</td>\n",
       "      <td>562</td>\n",
       "      <td>2</td>\n",
       "      <td>5</td>\n",
       "      <td>...</td>\n",
       "      <td>2</td>\n",
       "      <td>2</td>\n",
       "      <td>5</td>\n",
       "      <td>3</td>\n",
       "      <td>1</td>\n",
       "      <td>4</td>\n",
       "      <td>2</td>\n",
       "      <td>11</td>\n",
       "      <td>9.0</td>\n",
       "      <td>neutral or dissatisfied</td>\n",
       "    </tr>\n",
       "    <tr>\n",
       "      <th>4</th>\n",
       "      <td>4</td>\n",
       "      <td>119299</td>\n",
       "      <td>Male</td>\n",
       "      <td>Loyal Customer</td>\n",
       "      <td>61</td>\n",
       "      <td>Business travel</td>\n",
       "      <td>Business</td>\n",
       "      <td>214</td>\n",
       "      <td>3</td>\n",
       "      <td>3</td>\n",
       "      <td>...</td>\n",
       "      <td>3</td>\n",
       "      <td>3</td>\n",
       "      <td>4</td>\n",
       "      <td>4</td>\n",
       "      <td>3</td>\n",
       "      <td>3</td>\n",
       "      <td>3</td>\n",
       "      <td>0</td>\n",
       "      <td>0.0</td>\n",
       "      <td>satisfied</td>\n",
       "    </tr>\n",
       "  </tbody>\n",
       "</table>\n",
       "<p>5 rows × 25 columns</p>\n",
       "</div>"
      ],
      "text/plain": [
       "   Unnamed: 0      id  Gender      Customer Type  Age   Type of Travel  \\\n",
       "0           0   70172    Male     Loyal Customer   13  Personal Travel   \n",
       "1           1    5047    Male  disloyal Customer   25  Business travel   \n",
       "2           2  110028  Female     Loyal Customer   26  Business travel   \n",
       "3           3   24026  Female     Loyal Customer   25  Business travel   \n",
       "4           4  119299    Male     Loyal Customer   61  Business travel   \n",
       "\n",
       "      Class  Flight Distance  Inflight wifi service  \\\n",
       "0  Eco Plus              460                      3   \n",
       "1  Business              235                      3   \n",
       "2  Business             1142                      2   \n",
       "3  Business              562                      2   \n",
       "4  Business              214                      3   \n",
       "\n",
       "   Departure/Arrival time convenient  ...  Inflight entertainment  \\\n",
       "0                                  4  ...                       5   \n",
       "1                                  2  ...                       1   \n",
       "2                                  2  ...                       5   \n",
       "3                                  5  ...                       2   \n",
       "4                                  3  ...                       3   \n",
       "\n",
       "   On-board service  Leg room service  Baggage handling  Checkin service  \\\n",
       "0                 4                 3                 4                4   \n",
       "1                 1                 5                 3                1   \n",
       "2                 4                 3                 4                4   \n",
       "3                 2                 5                 3                1   \n",
       "4                 3                 4                 4                3   \n",
       "\n",
       "   Inflight service  Cleanliness  Departure Delay in Minutes  \\\n",
       "0                 5            5                          25   \n",
       "1                 4            1                           1   \n",
       "2                 4            5                           0   \n",
       "3                 4            2                          11   \n",
       "4                 3            3                           0   \n",
       "\n",
       "   Arrival Delay in Minutes             satisfaction  \n",
       "0                      18.0  neutral or dissatisfied  \n",
       "1                       6.0  neutral or dissatisfied  \n",
       "2                       0.0                satisfied  \n",
       "3                       9.0  neutral or dissatisfied  \n",
       "4                       0.0                satisfied  \n",
       "\n",
       "[5 rows x 25 columns]"
      ]
     },
     "execution_count": 3,
     "metadata": {},
     "output_type": "execute_result"
    }
   ],
   "source": [
    "df = pd.read_csv(\"airline.csv\")\n",
    "df.head()"
   ]
  },
  {
   "cell_type": "markdown",
   "id": "ba5f57f8",
   "metadata": {},
   "source": [
    "<a id=\"14\"></a> <br>\n",
    "## 4. Clean up missing value"
   ]
  },
  {
   "cell_type": "code",
   "execution_count": 4,
   "id": "3d736d6f",
   "metadata": {},
   "outputs": [
    {
     "data": {
      "text/plain": [
       "103904"
      ]
     },
     "execution_count": 4,
     "metadata": {},
     "output_type": "execute_result"
    }
   ],
   "source": [
    "len(df)"
   ]
  },
  {
   "cell_type": "code",
   "execution_count": 5,
   "id": "052b4a5a",
   "metadata": {},
   "outputs": [
    {
     "data": {
      "text/plain": [
       "Unnamed: 0                             0\n",
       "id                                     0\n",
       "Gender                                 0\n",
       "Customer Type                          0\n",
       "Age                                    0\n",
       "Type of Travel                         0\n",
       "Class                                  0\n",
       "Flight Distance                        0\n",
       "Inflight wifi service                  0\n",
       "Departure/Arrival time convenient      0\n",
       "Ease of Online booking                 0\n",
       "Gate location                          0\n",
       "Food and drink                         0\n",
       "Online boarding                        0\n",
       "Seat comfort                           0\n",
       "Inflight entertainment                 0\n",
       "On-board service                       0\n",
       "Leg room service                       0\n",
       "Baggage handling                       0\n",
       "Checkin service                        0\n",
       "Inflight service                       0\n",
       "Cleanliness                            0\n",
       "Departure Delay in Minutes             0\n",
       "Arrival Delay in Minutes             310\n",
       "satisfaction                           0\n",
       "dtype: int64"
      ]
     },
     "execution_count": 5,
     "metadata": {},
     "output_type": "execute_result"
    }
   ],
   "source": [
    "df.isnull().sum()"
   ]
  },
  {
   "cell_type": "markdown",
   "id": "475de1c3",
   "metadata": {},
   "source": [
    "There are only missing values in \"Arrival Delay in Minutes\". Since they constitute only 0.32% of the entire dataset, it is safe to remove all rows with missing values."
   ]
  },
  {
   "cell_type": "code",
   "execution_count": 6,
   "id": "294d1063",
   "metadata": {},
   "outputs": [],
   "source": [
    "df = df.dropna()"
   ]
  },
  {
   "cell_type": "code",
   "execution_count": 7,
   "id": "8d54e338",
   "metadata": {},
   "outputs": [
    {
     "data": {
      "text/plain": [
       "Unnamed: 0                           0\n",
       "id                                   0\n",
       "Gender                               0\n",
       "Customer Type                        0\n",
       "Age                                  0\n",
       "Type of Travel                       0\n",
       "Class                                0\n",
       "Flight Distance                      0\n",
       "Inflight wifi service                0\n",
       "Departure/Arrival time convenient    0\n",
       "Ease of Online booking               0\n",
       "Gate location                        0\n",
       "Food and drink                       0\n",
       "Online boarding                      0\n",
       "Seat comfort                         0\n",
       "Inflight entertainment               0\n",
       "On-board service                     0\n",
       "Leg room service                     0\n",
       "Baggage handling                     0\n",
       "Checkin service                      0\n",
       "Inflight service                     0\n",
       "Cleanliness                          0\n",
       "Departure Delay in Minutes           0\n",
       "Arrival Delay in Minutes             0\n",
       "satisfaction                         0\n",
       "dtype: int64"
      ]
     },
     "execution_count": 7,
     "metadata": {},
     "output_type": "execute_result"
    }
   ],
   "source": [
    "df.isnull().sum()"
   ]
  },
  {
   "cell_type": "markdown",
   "id": "1e35b98c",
   "metadata": {},
   "source": [
    "<a id=\"15\"></a> <br>\n",
    "## 5. Data pre-processing"
   ]
  },
  {
   "cell_type": "markdown",
   "id": "0b1576c7",
   "metadata": {},
   "source": [
    "<a id=\"151\"></a> <br>\n",
    "### A. Variable selections"
   ]
  },
  {
   "cell_type": "markdown",
   "id": "f6d09de2",
   "metadata": {},
   "source": [
    "In this analysis, only numeric variables will be considered. To perform factor analysis and principal component analysis, we will exclude variables that have a low correlation with others."
   ]
  },
  {
   "cell_type": "markdown",
   "id": "46208f14",
   "metadata": {},
   "source": [
    "<a id=\"152\"></a> <br>\n",
    "### B. Correlation Analysis"
   ]
  },
  {
   "cell_type": "code",
   "execution_count": 8,
   "id": "55b88565",
   "metadata": {},
   "outputs": [
    {
     "data": {
      "text/html": [
       "<div>\n",
       "<style scoped>\n",
       "    .dataframe tbody tr th:only-of-type {\n",
       "        vertical-align: middle;\n",
       "    }\n",
       "\n",
       "    .dataframe tbody tr th {\n",
       "        vertical-align: top;\n",
       "    }\n",
       "\n",
       "    .dataframe thead th {\n",
       "        text-align: right;\n",
       "    }\n",
       "</style>\n",
       "<table border=\"1\" class=\"dataframe\">\n",
       "  <thead>\n",
       "    <tr style=\"text-align: right;\">\n",
       "      <th></th>\n",
       "      <th>Unnamed: 0</th>\n",
       "      <th>id</th>\n",
       "      <th>Gender</th>\n",
       "      <th>Customer Type</th>\n",
       "      <th>Age</th>\n",
       "      <th>Type of Travel</th>\n",
       "      <th>Class</th>\n",
       "      <th>Flight Distance</th>\n",
       "      <th>Inflight wifi service</th>\n",
       "      <th>Departure/Arrival time convenient</th>\n",
       "      <th>...</th>\n",
       "      <th>Inflight entertainment</th>\n",
       "      <th>On-board service</th>\n",
       "      <th>Leg room service</th>\n",
       "      <th>Baggage handling</th>\n",
       "      <th>Checkin service</th>\n",
       "      <th>Inflight service</th>\n",
       "      <th>Cleanliness</th>\n",
       "      <th>Departure Delay in Minutes</th>\n",
       "      <th>Arrival Delay in Minutes</th>\n",
       "      <th>satisfaction</th>\n",
       "    </tr>\n",
       "  </thead>\n",
       "  <tbody>\n",
       "    <tr>\n",
       "      <th>0</th>\n",
       "      <td>0</td>\n",
       "      <td>70172</td>\n",
       "      <td>Male</td>\n",
       "      <td>Loyal Customer</td>\n",
       "      <td>13</td>\n",
       "      <td>Personal Travel</td>\n",
       "      <td>Eco Plus</td>\n",
       "      <td>460</td>\n",
       "      <td>3</td>\n",
       "      <td>4</td>\n",
       "      <td>...</td>\n",
       "      <td>5</td>\n",
       "      <td>4</td>\n",
       "      <td>3</td>\n",
       "      <td>4</td>\n",
       "      <td>4</td>\n",
       "      <td>5</td>\n",
       "      <td>5</td>\n",
       "      <td>25</td>\n",
       "      <td>18.0</td>\n",
       "      <td>neutral or dissatisfied</td>\n",
       "    </tr>\n",
       "    <tr>\n",
       "      <th>1</th>\n",
       "      <td>1</td>\n",
       "      <td>5047</td>\n",
       "      <td>Male</td>\n",
       "      <td>disloyal Customer</td>\n",
       "      <td>25</td>\n",
       "      <td>Business travel</td>\n",
       "      <td>Business</td>\n",
       "      <td>235</td>\n",
       "      <td>3</td>\n",
       "      <td>2</td>\n",
       "      <td>...</td>\n",
       "      <td>1</td>\n",
       "      <td>1</td>\n",
       "      <td>5</td>\n",
       "      <td>3</td>\n",
       "      <td>1</td>\n",
       "      <td>4</td>\n",
       "      <td>1</td>\n",
       "      <td>1</td>\n",
       "      <td>6.0</td>\n",
       "      <td>neutral or dissatisfied</td>\n",
       "    </tr>\n",
       "    <tr>\n",
       "      <th>2</th>\n",
       "      <td>2</td>\n",
       "      <td>110028</td>\n",
       "      <td>Female</td>\n",
       "      <td>Loyal Customer</td>\n",
       "      <td>26</td>\n",
       "      <td>Business travel</td>\n",
       "      <td>Business</td>\n",
       "      <td>1142</td>\n",
       "      <td>2</td>\n",
       "      <td>2</td>\n",
       "      <td>...</td>\n",
       "      <td>5</td>\n",
       "      <td>4</td>\n",
       "      <td>3</td>\n",
       "      <td>4</td>\n",
       "      <td>4</td>\n",
       "      <td>4</td>\n",
       "      <td>5</td>\n",
       "      <td>0</td>\n",
       "      <td>0.0</td>\n",
       "      <td>satisfied</td>\n",
       "    </tr>\n",
       "    <tr>\n",
       "      <th>3</th>\n",
       "      <td>3</td>\n",
       "      <td>24026</td>\n",
       "      <td>Female</td>\n",
       "      <td>Loyal Customer</td>\n",
       "      <td>25</td>\n",
       "      <td>Business travel</td>\n",
       "      <td>Business</td>\n",
       "      <td>562</td>\n",
       "      <td>2</td>\n",
       "      <td>5</td>\n",
       "      <td>...</td>\n",
       "      <td>2</td>\n",
       "      <td>2</td>\n",
       "      <td>5</td>\n",
       "      <td>3</td>\n",
       "      <td>1</td>\n",
       "      <td>4</td>\n",
       "      <td>2</td>\n",
       "      <td>11</td>\n",
       "      <td>9.0</td>\n",
       "      <td>neutral or dissatisfied</td>\n",
       "    </tr>\n",
       "    <tr>\n",
       "      <th>4</th>\n",
       "      <td>4</td>\n",
       "      <td>119299</td>\n",
       "      <td>Male</td>\n",
       "      <td>Loyal Customer</td>\n",
       "      <td>61</td>\n",
       "      <td>Business travel</td>\n",
       "      <td>Business</td>\n",
       "      <td>214</td>\n",
       "      <td>3</td>\n",
       "      <td>3</td>\n",
       "      <td>...</td>\n",
       "      <td>3</td>\n",
       "      <td>3</td>\n",
       "      <td>4</td>\n",
       "      <td>4</td>\n",
       "      <td>3</td>\n",
       "      <td>3</td>\n",
       "      <td>3</td>\n",
       "      <td>0</td>\n",
       "      <td>0.0</td>\n",
       "      <td>satisfied</td>\n",
       "    </tr>\n",
       "  </tbody>\n",
       "</table>\n",
       "<p>5 rows × 25 columns</p>\n",
       "</div>"
      ],
      "text/plain": [
       "   Unnamed: 0      id  Gender      Customer Type  Age   Type of Travel  \\\n",
       "0           0   70172    Male     Loyal Customer   13  Personal Travel   \n",
       "1           1    5047    Male  disloyal Customer   25  Business travel   \n",
       "2           2  110028  Female     Loyal Customer   26  Business travel   \n",
       "3           3   24026  Female     Loyal Customer   25  Business travel   \n",
       "4           4  119299    Male     Loyal Customer   61  Business travel   \n",
       "\n",
       "      Class  Flight Distance  Inflight wifi service  \\\n",
       "0  Eco Plus              460                      3   \n",
       "1  Business              235                      3   \n",
       "2  Business             1142                      2   \n",
       "3  Business              562                      2   \n",
       "4  Business              214                      3   \n",
       "\n",
       "   Departure/Arrival time convenient  ...  Inflight entertainment  \\\n",
       "0                                  4  ...                       5   \n",
       "1                                  2  ...                       1   \n",
       "2                                  2  ...                       5   \n",
       "3                                  5  ...                       2   \n",
       "4                                  3  ...                       3   \n",
       "\n",
       "   On-board service  Leg room service  Baggage handling  Checkin service  \\\n",
       "0                 4                 3                 4                4   \n",
       "1                 1                 5                 3                1   \n",
       "2                 4                 3                 4                4   \n",
       "3                 2                 5                 3                1   \n",
       "4                 3                 4                 4                3   \n",
       "\n",
       "   Inflight service  Cleanliness  Departure Delay in Minutes  \\\n",
       "0                 5            5                          25   \n",
       "1                 4            1                           1   \n",
       "2                 4            5                           0   \n",
       "3                 4            2                          11   \n",
       "4                 3            3                           0   \n",
       "\n",
       "   Arrival Delay in Minutes             satisfaction  \n",
       "0                      18.0  neutral or dissatisfied  \n",
       "1                       6.0  neutral or dissatisfied  \n",
       "2                       0.0                satisfied  \n",
       "3                       9.0  neutral or dissatisfied  \n",
       "4                       0.0                satisfied  \n",
       "\n",
       "[5 rows x 25 columns]"
      ]
     },
     "execution_count": 8,
     "metadata": {},
     "output_type": "execute_result"
    }
   ],
   "source": [
    "df.head()"
   ]
  },
  {
   "cell_type": "code",
   "execution_count": 9,
   "id": "4005200d",
   "metadata": {},
   "outputs": [
    {
     "data": {
      "text/html": [
       "<div>\n",
       "<style scoped>\n",
       "    .dataframe tbody tr th:only-of-type {\n",
       "        vertical-align: middle;\n",
       "    }\n",
       "\n",
       "    .dataframe tbody tr th {\n",
       "        vertical-align: top;\n",
       "    }\n",
       "\n",
       "    .dataframe thead th {\n",
       "        text-align: right;\n",
       "    }\n",
       "</style>\n",
       "<table border=\"1\" class=\"dataframe\">\n",
       "  <thead>\n",
       "    <tr style=\"text-align: right;\">\n",
       "      <th></th>\n",
       "      <th>Unnamed: 0</th>\n",
       "      <th>id</th>\n",
       "      <th>Age</th>\n",
       "      <th>Flight Distance</th>\n",
       "      <th>Inflight wifi service</th>\n",
       "      <th>Departure/Arrival time convenient</th>\n",
       "      <th>Ease of Online booking</th>\n",
       "      <th>Gate location</th>\n",
       "      <th>Food and drink</th>\n",
       "      <th>Online boarding</th>\n",
       "      <th>Seat comfort</th>\n",
       "      <th>Inflight entertainment</th>\n",
       "      <th>On-board service</th>\n",
       "      <th>Leg room service</th>\n",
       "      <th>Baggage handling</th>\n",
       "      <th>Checkin service</th>\n",
       "      <th>Inflight service</th>\n",
       "      <th>Cleanliness</th>\n",
       "      <th>Departure Delay in Minutes</th>\n",
       "      <th>Arrival Delay in Minutes</th>\n",
       "    </tr>\n",
       "  </thead>\n",
       "  <tbody>\n",
       "    <tr>\n",
       "      <th>Unnamed: 0</th>\n",
       "      <td>1.000000</td>\n",
       "      <td>0.003146</td>\n",
       "      <td>0.004806</td>\n",
       "      <td>0.002973</td>\n",
       "      <td>-0.002523</td>\n",
       "      <td>0.000750</td>\n",
       "      <td>0.001941</td>\n",
       "      <td>0.005007</td>\n",
       "      <td>-0.001974</td>\n",
       "      <td>0.001126</td>\n",
       "      <td>0.000343</td>\n",
       "      <td>0.001474</td>\n",
       "      <td>0.001046</td>\n",
       "      <td>0.004061</td>\n",
       "      <td>-0.000328</td>\n",
       "      <td>-0.004205</td>\n",
       "      <td>-0.000011</td>\n",
       "      <td>-0.000978</td>\n",
       "      <td>-0.000694</td>\n",
       "      <td>-0.000045</td>\n",
       "    </tr>\n",
       "    <tr>\n",
       "      <th>id</th>\n",
       "      <td>0.003146</td>\n",
       "      <td>1.000000</td>\n",
       "      <td>0.022929</td>\n",
       "      <td>0.095184</td>\n",
       "      <td>-0.021338</td>\n",
       "      <td>-0.001714</td>\n",
       "      <td>0.014119</td>\n",
       "      <td>-0.000427</td>\n",
       "      <td>0.001254</td>\n",
       "      <td>0.055394</td>\n",
       "      <td>0.053091</td>\n",
       "      <td>0.002592</td>\n",
       "      <td>0.055255</td>\n",
       "      <td>0.044459</td>\n",
       "      <td>0.075134</td>\n",
       "      <td>0.079346</td>\n",
       "      <td>0.079468</td>\n",
       "      <td>0.025313</td>\n",
       "      <td>-0.019321</td>\n",
       "      <td>-0.037254</td>\n",
       "    </tr>\n",
       "    <tr>\n",
       "      <th>Age</th>\n",
       "      <td>0.004806</td>\n",
       "      <td>0.022929</td>\n",
       "      <td>1.000000</td>\n",
       "      <td>0.099838</td>\n",
       "      <td>0.017470</td>\n",
       "      <td>0.038038</td>\n",
       "      <td>0.024461</td>\n",
       "      <td>-0.001558</td>\n",
       "      <td>0.022920</td>\n",
       "      <td>0.208681</td>\n",
       "      <td>0.160302</td>\n",
       "      <td>0.076380</td>\n",
       "      <td>0.057123</td>\n",
       "      <td>0.040498</td>\n",
       "      <td>-0.047619</td>\n",
       "      <td>0.035003</td>\n",
       "      <td>-0.049899</td>\n",
       "      <td>0.053493</td>\n",
       "      <td>-0.010150</td>\n",
       "      <td>-0.012147</td>\n",
       "    </tr>\n",
       "    <tr>\n",
       "      <th>Flight Distance</th>\n",
       "      <td>0.002973</td>\n",
       "      <td>0.095184</td>\n",
       "      <td>0.099838</td>\n",
       "      <td>1.000000</td>\n",
       "      <td>0.007050</td>\n",
       "      <td>-0.019908</td>\n",
       "      <td>0.065697</td>\n",
       "      <td>0.004732</td>\n",
       "      <td>0.056957</td>\n",
       "      <td>0.215191</td>\n",
       "      <td>0.157517</td>\n",
       "      <td>0.128645</td>\n",
       "      <td>0.109540</td>\n",
       "      <td>0.133839</td>\n",
       "      <td>0.063222</td>\n",
       "      <td>0.073224</td>\n",
       "      <td>0.057430</td>\n",
       "      <td>0.093121</td>\n",
       "      <td>0.001906</td>\n",
       "      <td>-0.002426</td>\n",
       "    </tr>\n",
       "    <tr>\n",
       "      <th>Inflight wifi service</th>\n",
       "      <td>-0.002523</td>\n",
       "      <td>-0.021338</td>\n",
       "      <td>0.017470</td>\n",
       "      <td>0.007050</td>\n",
       "      <td>1.000000</td>\n",
       "      <td>0.343758</td>\n",
       "      <td>0.715848</td>\n",
       "      <td>0.336127</td>\n",
       "      <td>0.134603</td>\n",
       "      <td>0.457002</td>\n",
       "      <td>0.122617</td>\n",
       "      <td>0.209513</td>\n",
       "      <td>0.121484</td>\n",
       "      <td>0.160485</td>\n",
       "      <td>0.121060</td>\n",
       "      <td>0.043178</td>\n",
       "      <td>0.110626</td>\n",
       "      <td>0.132652</td>\n",
       "      <td>-0.017451</td>\n",
       "      <td>-0.019095</td>\n",
       "    </tr>\n",
       "    <tr>\n",
       "      <th>Departure/Arrival time convenient</th>\n",
       "      <td>0.000750</td>\n",
       "      <td>-0.001714</td>\n",
       "      <td>0.038038</td>\n",
       "      <td>-0.019908</td>\n",
       "      <td>0.343758</td>\n",
       "      <td>1.000000</td>\n",
       "      <td>0.437021</td>\n",
       "      <td>0.444601</td>\n",
       "      <td>0.005189</td>\n",
       "      <td>0.069990</td>\n",
       "      <td>0.011416</td>\n",
       "      <td>-0.004683</td>\n",
       "      <td>0.068604</td>\n",
       "      <td>0.012461</td>\n",
       "      <td>0.071901</td>\n",
       "      <td>0.093329</td>\n",
       "      <td>0.073227</td>\n",
       "      <td>0.014337</td>\n",
       "      <td>0.000791</td>\n",
       "      <td>-0.000864</td>\n",
       "    </tr>\n",
       "    <tr>\n",
       "      <th>Ease of Online booking</th>\n",
       "      <td>0.001941</td>\n",
       "      <td>0.014119</td>\n",
       "      <td>0.024461</td>\n",
       "      <td>0.065697</td>\n",
       "      <td>0.715848</td>\n",
       "      <td>0.437021</td>\n",
       "      <td>1.000000</td>\n",
       "      <td>0.458746</td>\n",
       "      <td>0.031940</td>\n",
       "      <td>0.404093</td>\n",
       "      <td>0.030021</td>\n",
       "      <td>0.047185</td>\n",
       "      <td>0.038759</td>\n",
       "      <td>0.107431</td>\n",
       "      <td>0.038851</td>\n",
       "      <td>0.010957</td>\n",
       "      <td>0.035330</td>\n",
       "      <td>0.016192</td>\n",
       "      <td>-0.006292</td>\n",
       "      <td>-0.007984</td>\n",
       "    </tr>\n",
       "    <tr>\n",
       "      <th>Gate location</th>\n",
       "      <td>0.005007</td>\n",
       "      <td>-0.000427</td>\n",
       "      <td>-0.001558</td>\n",
       "      <td>0.004732</td>\n",
       "      <td>0.336127</td>\n",
       "      <td>0.444601</td>\n",
       "      <td>0.458746</td>\n",
       "      <td>1.000000</td>\n",
       "      <td>-0.001170</td>\n",
       "      <td>0.001451</td>\n",
       "      <td>0.003383</td>\n",
       "      <td>0.003564</td>\n",
       "      <td>-0.028532</td>\n",
       "      <td>-0.005868</td>\n",
       "      <td>0.002421</td>\n",
       "      <td>-0.035451</td>\n",
       "      <td>0.001742</td>\n",
       "      <td>-0.004015</td>\n",
       "      <td>0.005533</td>\n",
       "      <td>0.005143</td>\n",
       "    </tr>\n",
       "    <tr>\n",
       "      <th>Food and drink</th>\n",
       "      <td>-0.001974</td>\n",
       "      <td>0.001254</td>\n",
       "      <td>0.022920</td>\n",
       "      <td>0.056957</td>\n",
       "      <td>0.134603</td>\n",
       "      <td>0.005189</td>\n",
       "      <td>0.031940</td>\n",
       "      <td>-0.001170</td>\n",
       "      <td>1.000000</td>\n",
       "      <td>0.234492</td>\n",
       "      <td>0.574561</td>\n",
       "      <td>0.622374</td>\n",
       "      <td>0.058999</td>\n",
       "      <td>0.032415</td>\n",
       "      <td>0.034811</td>\n",
       "      <td>0.087055</td>\n",
       "      <td>0.034077</td>\n",
       "      <td>0.657648</td>\n",
       "      <td>-0.029983</td>\n",
       "      <td>-0.032524</td>\n",
       "    </tr>\n",
       "    <tr>\n",
       "      <th>Online boarding</th>\n",
       "      <td>0.001126</td>\n",
       "      <td>0.055394</td>\n",
       "      <td>0.208681</td>\n",
       "      <td>0.215191</td>\n",
       "      <td>0.457002</td>\n",
       "      <td>0.069990</td>\n",
       "      <td>0.404093</td>\n",
       "      <td>0.001451</td>\n",
       "      <td>0.234492</td>\n",
       "      <td>1.000000</td>\n",
       "      <td>0.420067</td>\n",
       "      <td>0.285194</td>\n",
       "      <td>0.155345</td>\n",
       "      <td>0.123780</td>\n",
       "      <td>0.083299</td>\n",
       "      <td>0.204208</td>\n",
       "      <td>0.074390</td>\n",
       "      <td>0.331498</td>\n",
       "      <td>-0.018515</td>\n",
       "      <td>-0.021949</td>\n",
       "    </tr>\n",
       "    <tr>\n",
       "      <th>Seat comfort</th>\n",
       "      <td>0.000343</td>\n",
       "      <td>0.053091</td>\n",
       "      <td>0.160302</td>\n",
       "      <td>0.157517</td>\n",
       "      <td>0.122617</td>\n",
       "      <td>0.011416</td>\n",
       "      <td>0.030021</td>\n",
       "      <td>0.003383</td>\n",
       "      <td>0.574561</td>\n",
       "      <td>0.420067</td>\n",
       "      <td>1.000000</td>\n",
       "      <td>0.610614</td>\n",
       "      <td>0.132030</td>\n",
       "      <td>0.105447</td>\n",
       "      <td>0.074553</td>\n",
       "      <td>0.191545</td>\n",
       "      <td>0.069193</td>\n",
       "      <td>0.678478</td>\n",
       "      <td>-0.027323</td>\n",
       "      <td>-0.029900</td>\n",
       "    </tr>\n",
       "    <tr>\n",
       "      <th>Inflight entertainment</th>\n",
       "      <td>0.001474</td>\n",
       "      <td>0.002592</td>\n",
       "      <td>0.076380</td>\n",
       "      <td>0.128645</td>\n",
       "      <td>0.209513</td>\n",
       "      <td>-0.004683</td>\n",
       "      <td>0.047185</td>\n",
       "      <td>0.003564</td>\n",
       "      <td>0.622374</td>\n",
       "      <td>0.285194</td>\n",
       "      <td>0.610614</td>\n",
       "      <td>1.000000</td>\n",
       "      <td>0.420352</td>\n",
       "      <td>0.299850</td>\n",
       "      <td>0.378361</td>\n",
       "      <td>0.120812</td>\n",
       "      <td>0.405247</td>\n",
       "      <td>0.691735</td>\n",
       "      <td>-0.027691</td>\n",
       "      <td>-0.030703</td>\n",
       "    </tr>\n",
       "    <tr>\n",
       "      <th>On-board service</th>\n",
       "      <td>0.001046</td>\n",
       "      <td>0.055255</td>\n",
       "      <td>0.057123</td>\n",
       "      <td>0.109540</td>\n",
       "      <td>0.121484</td>\n",
       "      <td>0.068604</td>\n",
       "      <td>0.038759</td>\n",
       "      <td>-0.028532</td>\n",
       "      <td>0.058999</td>\n",
       "      <td>0.155345</td>\n",
       "      <td>0.132030</td>\n",
       "      <td>0.420352</td>\n",
       "      <td>1.000000</td>\n",
       "      <td>0.355657</td>\n",
       "      <td>0.519252</td>\n",
       "      <td>0.243852</td>\n",
       "      <td>0.550725</td>\n",
       "      <td>0.123236</td>\n",
       "      <td>-0.031474</td>\n",
       "      <td>-0.035227</td>\n",
       "    </tr>\n",
       "    <tr>\n",
       "      <th>Leg room service</th>\n",
       "      <td>0.004061</td>\n",
       "      <td>0.044459</td>\n",
       "      <td>0.040498</td>\n",
       "      <td>0.133839</td>\n",
       "      <td>0.160485</td>\n",
       "      <td>0.012461</td>\n",
       "      <td>0.107431</td>\n",
       "      <td>-0.005868</td>\n",
       "      <td>0.032415</td>\n",
       "      <td>0.123780</td>\n",
       "      <td>0.105447</td>\n",
       "      <td>0.299850</td>\n",
       "      <td>0.355657</td>\n",
       "      <td>1.000000</td>\n",
       "      <td>0.369674</td>\n",
       "      <td>0.153079</td>\n",
       "      <td>0.368925</td>\n",
       "      <td>0.096401</td>\n",
       "      <td>0.014336</td>\n",
       "      <td>0.011843</td>\n",
       "    </tr>\n",
       "    <tr>\n",
       "      <th>Baggage handling</th>\n",
       "      <td>-0.000328</td>\n",
       "      <td>0.075134</td>\n",
       "      <td>-0.047619</td>\n",
       "      <td>0.063222</td>\n",
       "      <td>0.121060</td>\n",
       "      <td>0.071901</td>\n",
       "      <td>0.038851</td>\n",
       "      <td>0.002421</td>\n",
       "      <td>0.034811</td>\n",
       "      <td>0.083299</td>\n",
       "      <td>0.074553</td>\n",
       "      <td>0.378361</td>\n",
       "      <td>0.519252</td>\n",
       "      <td>0.369674</td>\n",
       "      <td>1.000000</td>\n",
       "      <td>0.233326</td>\n",
       "      <td>0.628944</td>\n",
       "      <td>0.095783</td>\n",
       "      <td>-0.005683</td>\n",
       "      <td>-0.008542</td>\n",
       "    </tr>\n",
       "    <tr>\n",
       "      <th>Checkin service</th>\n",
       "      <td>-0.004205</td>\n",
       "      <td>0.079346</td>\n",
       "      <td>0.035003</td>\n",
       "      <td>0.073224</td>\n",
       "      <td>0.043178</td>\n",
       "      <td>0.093329</td>\n",
       "      <td>0.010957</td>\n",
       "      <td>-0.035451</td>\n",
       "      <td>0.087055</td>\n",
       "      <td>0.204208</td>\n",
       "      <td>0.191545</td>\n",
       "      <td>0.120812</td>\n",
       "      <td>0.243852</td>\n",
       "      <td>0.153079</td>\n",
       "      <td>0.233326</td>\n",
       "      <td>1.000000</td>\n",
       "      <td>0.237256</td>\n",
       "      <td>0.179431</td>\n",
       "      <td>-0.018065</td>\n",
       "      <td>-0.020369</td>\n",
       "    </tr>\n",
       "    <tr>\n",
       "      <th>Inflight service</th>\n",
       "      <td>-0.000011</td>\n",
       "      <td>0.079468</td>\n",
       "      <td>-0.049899</td>\n",
       "      <td>0.057430</td>\n",
       "      <td>0.110626</td>\n",
       "      <td>0.073227</td>\n",
       "      <td>0.035330</td>\n",
       "      <td>0.001742</td>\n",
       "      <td>0.034077</td>\n",
       "      <td>0.074390</td>\n",
       "      <td>0.069193</td>\n",
       "      <td>0.405247</td>\n",
       "      <td>0.550725</td>\n",
       "      <td>0.368925</td>\n",
       "      <td>0.628944</td>\n",
       "      <td>0.237256</td>\n",
       "      <td>1.000000</td>\n",
       "      <td>0.088891</td>\n",
       "      <td>-0.054452</td>\n",
       "      <td>-0.059196</td>\n",
       "    </tr>\n",
       "    <tr>\n",
       "      <th>Cleanliness</th>\n",
       "      <td>-0.000978</td>\n",
       "      <td>0.025313</td>\n",
       "      <td>0.053493</td>\n",
       "      <td>0.093121</td>\n",
       "      <td>0.132652</td>\n",
       "      <td>0.014337</td>\n",
       "      <td>0.016192</td>\n",
       "      <td>-0.004015</td>\n",
       "      <td>0.657648</td>\n",
       "      <td>0.331498</td>\n",
       "      <td>0.678478</td>\n",
       "      <td>0.691735</td>\n",
       "      <td>0.123236</td>\n",
       "      <td>0.096401</td>\n",
       "      <td>0.095783</td>\n",
       "      <td>0.179431</td>\n",
       "      <td>0.088891</td>\n",
       "      <td>1.000000</td>\n",
       "      <td>-0.013835</td>\n",
       "      <td>-0.015774</td>\n",
       "    </tr>\n",
       "    <tr>\n",
       "      <th>Departure Delay in Minutes</th>\n",
       "      <td>-0.000694</td>\n",
       "      <td>-0.019321</td>\n",
       "      <td>-0.010150</td>\n",
       "      <td>0.001906</td>\n",
       "      <td>-0.017451</td>\n",
       "      <td>0.000791</td>\n",
       "      <td>-0.006292</td>\n",
       "      <td>0.005533</td>\n",
       "      <td>-0.029983</td>\n",
       "      <td>-0.018515</td>\n",
       "      <td>-0.027323</td>\n",
       "      <td>-0.027691</td>\n",
       "      <td>-0.031474</td>\n",
       "      <td>0.014336</td>\n",
       "      <td>-0.005683</td>\n",
       "      <td>-0.018065</td>\n",
       "      <td>-0.054452</td>\n",
       "      <td>-0.013835</td>\n",
       "      <td>1.000000</td>\n",
       "      <td>0.965481</td>\n",
       "    </tr>\n",
       "    <tr>\n",
       "      <th>Arrival Delay in Minutes</th>\n",
       "      <td>-0.000045</td>\n",
       "      <td>-0.037254</td>\n",
       "      <td>-0.012147</td>\n",
       "      <td>-0.002426</td>\n",
       "      <td>-0.019095</td>\n",
       "      <td>-0.000864</td>\n",
       "      <td>-0.007984</td>\n",
       "      <td>0.005143</td>\n",
       "      <td>-0.032524</td>\n",
       "      <td>-0.021949</td>\n",
       "      <td>-0.029900</td>\n",
       "      <td>-0.030703</td>\n",
       "      <td>-0.035227</td>\n",
       "      <td>0.011843</td>\n",
       "      <td>-0.008542</td>\n",
       "      <td>-0.020369</td>\n",
       "      <td>-0.059196</td>\n",
       "      <td>-0.015774</td>\n",
       "      <td>0.965481</td>\n",
       "      <td>1.000000</td>\n",
       "    </tr>\n",
       "  </tbody>\n",
       "</table>\n",
       "</div>"
      ],
      "text/plain": [
       "                                   Unnamed: 0        id       Age  \\\n",
       "Unnamed: 0                           1.000000  0.003146  0.004806   \n",
       "id                                   0.003146  1.000000  0.022929   \n",
       "Age                                  0.004806  0.022929  1.000000   \n",
       "Flight Distance                      0.002973  0.095184  0.099838   \n",
       "Inflight wifi service               -0.002523 -0.021338  0.017470   \n",
       "Departure/Arrival time convenient    0.000750 -0.001714  0.038038   \n",
       "Ease of Online booking               0.001941  0.014119  0.024461   \n",
       "Gate location                        0.005007 -0.000427 -0.001558   \n",
       "Food and drink                      -0.001974  0.001254  0.022920   \n",
       "Online boarding                      0.001126  0.055394  0.208681   \n",
       "Seat comfort                         0.000343  0.053091  0.160302   \n",
       "Inflight entertainment               0.001474  0.002592  0.076380   \n",
       "On-board service                     0.001046  0.055255  0.057123   \n",
       "Leg room service                     0.004061  0.044459  0.040498   \n",
       "Baggage handling                    -0.000328  0.075134 -0.047619   \n",
       "Checkin service                     -0.004205  0.079346  0.035003   \n",
       "Inflight service                    -0.000011  0.079468 -0.049899   \n",
       "Cleanliness                         -0.000978  0.025313  0.053493   \n",
       "Departure Delay in Minutes          -0.000694 -0.019321 -0.010150   \n",
       "Arrival Delay in Minutes            -0.000045 -0.037254 -0.012147   \n",
       "\n",
       "                                   Flight Distance  Inflight wifi service  \\\n",
       "Unnamed: 0                                0.002973              -0.002523   \n",
       "id                                        0.095184              -0.021338   \n",
       "Age                                       0.099838               0.017470   \n",
       "Flight Distance                           1.000000               0.007050   \n",
       "Inflight wifi service                     0.007050               1.000000   \n",
       "Departure/Arrival time convenient        -0.019908               0.343758   \n",
       "Ease of Online booking                    0.065697               0.715848   \n",
       "Gate location                             0.004732               0.336127   \n",
       "Food and drink                            0.056957               0.134603   \n",
       "Online boarding                           0.215191               0.457002   \n",
       "Seat comfort                              0.157517               0.122617   \n",
       "Inflight entertainment                    0.128645               0.209513   \n",
       "On-board service                          0.109540               0.121484   \n",
       "Leg room service                          0.133839               0.160485   \n",
       "Baggage handling                          0.063222               0.121060   \n",
       "Checkin service                           0.073224               0.043178   \n",
       "Inflight service                          0.057430               0.110626   \n",
       "Cleanliness                               0.093121               0.132652   \n",
       "Departure Delay in Minutes                0.001906              -0.017451   \n",
       "Arrival Delay in Minutes                 -0.002426              -0.019095   \n",
       "\n",
       "                                   Departure/Arrival time convenient  \\\n",
       "Unnamed: 0                                                  0.000750   \n",
       "id                                                         -0.001714   \n",
       "Age                                                         0.038038   \n",
       "Flight Distance                                            -0.019908   \n",
       "Inflight wifi service                                       0.343758   \n",
       "Departure/Arrival time convenient                           1.000000   \n",
       "Ease of Online booking                                      0.437021   \n",
       "Gate location                                               0.444601   \n",
       "Food and drink                                              0.005189   \n",
       "Online boarding                                             0.069990   \n",
       "Seat comfort                                                0.011416   \n",
       "Inflight entertainment                                     -0.004683   \n",
       "On-board service                                            0.068604   \n",
       "Leg room service                                            0.012461   \n",
       "Baggage handling                                            0.071901   \n",
       "Checkin service                                             0.093329   \n",
       "Inflight service                                            0.073227   \n",
       "Cleanliness                                                 0.014337   \n",
       "Departure Delay in Minutes                                  0.000791   \n",
       "Arrival Delay in Minutes                                   -0.000864   \n",
       "\n",
       "                                   Ease of Online booking  Gate location  \\\n",
       "Unnamed: 0                                       0.001941       0.005007   \n",
       "id                                               0.014119      -0.000427   \n",
       "Age                                              0.024461      -0.001558   \n",
       "Flight Distance                                  0.065697       0.004732   \n",
       "Inflight wifi service                            0.715848       0.336127   \n",
       "Departure/Arrival time convenient                0.437021       0.444601   \n",
       "Ease of Online booking                           1.000000       0.458746   \n",
       "Gate location                                    0.458746       1.000000   \n",
       "Food and drink                                   0.031940      -0.001170   \n",
       "Online boarding                                  0.404093       0.001451   \n",
       "Seat comfort                                     0.030021       0.003383   \n",
       "Inflight entertainment                           0.047185       0.003564   \n",
       "On-board service                                 0.038759      -0.028532   \n",
       "Leg room service                                 0.107431      -0.005868   \n",
       "Baggage handling                                 0.038851       0.002421   \n",
       "Checkin service                                  0.010957      -0.035451   \n",
       "Inflight service                                 0.035330       0.001742   \n",
       "Cleanliness                                      0.016192      -0.004015   \n",
       "Departure Delay in Minutes                      -0.006292       0.005533   \n",
       "Arrival Delay in Minutes                        -0.007984       0.005143   \n",
       "\n",
       "                                   Food and drink  Online boarding  \\\n",
       "Unnamed: 0                              -0.001974         0.001126   \n",
       "id                                       0.001254         0.055394   \n",
       "Age                                      0.022920         0.208681   \n",
       "Flight Distance                          0.056957         0.215191   \n",
       "Inflight wifi service                    0.134603         0.457002   \n",
       "Departure/Arrival time convenient        0.005189         0.069990   \n",
       "Ease of Online booking                   0.031940         0.404093   \n",
       "Gate location                           -0.001170         0.001451   \n",
       "Food and drink                           1.000000         0.234492   \n",
       "Online boarding                          0.234492         1.000000   \n",
       "Seat comfort                             0.574561         0.420067   \n",
       "Inflight entertainment                   0.622374         0.285194   \n",
       "On-board service                         0.058999         0.155345   \n",
       "Leg room service                         0.032415         0.123780   \n",
       "Baggage handling                         0.034811         0.083299   \n",
       "Checkin service                          0.087055         0.204208   \n",
       "Inflight service                         0.034077         0.074390   \n",
       "Cleanliness                              0.657648         0.331498   \n",
       "Departure Delay in Minutes              -0.029983        -0.018515   \n",
       "Arrival Delay in Minutes                -0.032524        -0.021949   \n",
       "\n",
       "                                   Seat comfort  Inflight entertainment  \\\n",
       "Unnamed: 0                             0.000343                0.001474   \n",
       "id                                     0.053091                0.002592   \n",
       "Age                                    0.160302                0.076380   \n",
       "Flight Distance                        0.157517                0.128645   \n",
       "Inflight wifi service                  0.122617                0.209513   \n",
       "Departure/Arrival time convenient      0.011416               -0.004683   \n",
       "Ease of Online booking                 0.030021                0.047185   \n",
       "Gate location                          0.003383                0.003564   \n",
       "Food and drink                         0.574561                0.622374   \n",
       "Online boarding                        0.420067                0.285194   \n",
       "Seat comfort                           1.000000                0.610614   \n",
       "Inflight entertainment                 0.610614                1.000000   \n",
       "On-board service                       0.132030                0.420352   \n",
       "Leg room service                       0.105447                0.299850   \n",
       "Baggage handling                       0.074553                0.378361   \n",
       "Checkin service                        0.191545                0.120812   \n",
       "Inflight service                       0.069193                0.405247   \n",
       "Cleanliness                            0.678478                0.691735   \n",
       "Departure Delay in Minutes            -0.027323               -0.027691   \n",
       "Arrival Delay in Minutes              -0.029900               -0.030703   \n",
       "\n",
       "                                   On-board service  Leg room service  \\\n",
       "Unnamed: 0                                 0.001046          0.004061   \n",
       "id                                         0.055255          0.044459   \n",
       "Age                                        0.057123          0.040498   \n",
       "Flight Distance                            0.109540          0.133839   \n",
       "Inflight wifi service                      0.121484          0.160485   \n",
       "Departure/Arrival time convenient          0.068604          0.012461   \n",
       "Ease of Online booking                     0.038759          0.107431   \n",
       "Gate location                             -0.028532         -0.005868   \n",
       "Food and drink                             0.058999          0.032415   \n",
       "Online boarding                            0.155345          0.123780   \n",
       "Seat comfort                               0.132030          0.105447   \n",
       "Inflight entertainment                     0.420352          0.299850   \n",
       "On-board service                           1.000000          0.355657   \n",
       "Leg room service                           0.355657          1.000000   \n",
       "Baggage handling                           0.519252          0.369674   \n",
       "Checkin service                            0.243852          0.153079   \n",
       "Inflight service                           0.550725          0.368925   \n",
       "Cleanliness                                0.123236          0.096401   \n",
       "Departure Delay in Minutes                -0.031474          0.014336   \n",
       "Arrival Delay in Minutes                  -0.035227          0.011843   \n",
       "\n",
       "                                   Baggage handling  Checkin service  \\\n",
       "Unnamed: 0                                -0.000328        -0.004205   \n",
       "id                                         0.075134         0.079346   \n",
       "Age                                       -0.047619         0.035003   \n",
       "Flight Distance                            0.063222         0.073224   \n",
       "Inflight wifi service                      0.121060         0.043178   \n",
       "Departure/Arrival time convenient          0.071901         0.093329   \n",
       "Ease of Online booking                     0.038851         0.010957   \n",
       "Gate location                              0.002421        -0.035451   \n",
       "Food and drink                             0.034811         0.087055   \n",
       "Online boarding                            0.083299         0.204208   \n",
       "Seat comfort                               0.074553         0.191545   \n",
       "Inflight entertainment                     0.378361         0.120812   \n",
       "On-board service                           0.519252         0.243852   \n",
       "Leg room service                           0.369674         0.153079   \n",
       "Baggage handling                           1.000000         0.233326   \n",
       "Checkin service                            0.233326         1.000000   \n",
       "Inflight service                           0.628944         0.237256   \n",
       "Cleanliness                                0.095783         0.179431   \n",
       "Departure Delay in Minutes                -0.005683        -0.018065   \n",
       "Arrival Delay in Minutes                  -0.008542        -0.020369   \n",
       "\n",
       "                                   Inflight service  Cleanliness  \\\n",
       "Unnamed: 0                                -0.000011    -0.000978   \n",
       "id                                         0.079468     0.025313   \n",
       "Age                                       -0.049899     0.053493   \n",
       "Flight Distance                            0.057430     0.093121   \n",
       "Inflight wifi service                      0.110626     0.132652   \n",
       "Departure/Arrival time convenient          0.073227     0.014337   \n",
       "Ease of Online booking                     0.035330     0.016192   \n",
       "Gate location                              0.001742    -0.004015   \n",
       "Food and drink                             0.034077     0.657648   \n",
       "Online boarding                            0.074390     0.331498   \n",
       "Seat comfort                               0.069193     0.678478   \n",
       "Inflight entertainment                     0.405247     0.691735   \n",
       "On-board service                           0.550725     0.123236   \n",
       "Leg room service                           0.368925     0.096401   \n",
       "Baggage handling                           0.628944     0.095783   \n",
       "Checkin service                            0.237256     0.179431   \n",
       "Inflight service                           1.000000     0.088891   \n",
       "Cleanliness                                0.088891     1.000000   \n",
       "Departure Delay in Minutes                -0.054452    -0.013835   \n",
       "Arrival Delay in Minutes                  -0.059196    -0.015774   \n",
       "\n",
       "                                   Departure Delay in Minutes  \\\n",
       "Unnamed: 0                                          -0.000694   \n",
       "id                                                  -0.019321   \n",
       "Age                                                 -0.010150   \n",
       "Flight Distance                                      0.001906   \n",
       "Inflight wifi service                               -0.017451   \n",
       "Departure/Arrival time convenient                    0.000791   \n",
       "Ease of Online booking                              -0.006292   \n",
       "Gate location                                        0.005533   \n",
       "Food and drink                                      -0.029983   \n",
       "Online boarding                                     -0.018515   \n",
       "Seat comfort                                        -0.027323   \n",
       "Inflight entertainment                              -0.027691   \n",
       "On-board service                                    -0.031474   \n",
       "Leg room service                                     0.014336   \n",
       "Baggage handling                                    -0.005683   \n",
       "Checkin service                                     -0.018065   \n",
       "Inflight service                                    -0.054452   \n",
       "Cleanliness                                         -0.013835   \n",
       "Departure Delay in Minutes                           1.000000   \n",
       "Arrival Delay in Minutes                             0.965481   \n",
       "\n",
       "                                   Arrival Delay in Minutes  \n",
       "Unnamed: 0                                        -0.000045  \n",
       "id                                                -0.037254  \n",
       "Age                                               -0.012147  \n",
       "Flight Distance                                   -0.002426  \n",
       "Inflight wifi service                             -0.019095  \n",
       "Departure/Arrival time convenient                 -0.000864  \n",
       "Ease of Online booking                            -0.007984  \n",
       "Gate location                                      0.005143  \n",
       "Food and drink                                    -0.032524  \n",
       "Online boarding                                   -0.021949  \n",
       "Seat comfort                                      -0.029900  \n",
       "Inflight entertainment                            -0.030703  \n",
       "On-board service                                  -0.035227  \n",
       "Leg room service                                   0.011843  \n",
       "Baggage handling                                  -0.008542  \n",
       "Checkin service                                   -0.020369  \n",
       "Inflight service                                  -0.059196  \n",
       "Cleanliness                                       -0.015774  \n",
       "Departure Delay in Minutes                         0.965481  \n",
       "Arrival Delay in Minutes                           1.000000  "
      ]
     },
     "execution_count": 9,
     "metadata": {},
     "output_type": "execute_result"
    }
   ],
   "source": [
    "corr_matrix = df.corr()\n",
    "corr_matrix"
   ]
  },
  {
   "cell_type": "code",
   "execution_count": 10,
   "id": "acfdcce7",
   "metadata": {},
   "outputs": [
    {
     "data": {
      "image/png": "[encoded data removed]",
      "text/plain": [
       "<Figure size 864x864 with 2 Axes>"
      ]
     },
     "metadata": {
      "needs_background": "light"
     },
     "output_type": "display_data"
    }
   ],
   "source": [
    "fig, ax = plt.subplots(figsize=(12, 12))\n",
    "\n",
    "# Create heatmap of the correlation matrix\n",
    "sns.heatmap(corr_matrix, annot=True, cmap='coolwarm', ax=ax)\n",
    "plt.show()"
   ]
  },
  {
   "cell_type": "markdown",
   "id": "f3cda0a7",
   "metadata": {},
   "source": [
    "If we set a cutoff point of 0.3 for the correlation coefficient, we can see that column Unnamed:0, id, Age, Flight Distance and Checkin service does not have any correlation coefficients higher than 0.3, indicating that these 3 variables are highly independent from other variables and should be excluded from our analysis."
   ]
  },
  {
   "cell_type": "code",
   "execution_count": 11,
   "id": "4f194fa6",
   "metadata": {},
   "outputs": [],
   "source": [
    "#Exclude catagorical variables, id and low correlated numeric variables\n",
    "df = df.loc[:, ~df.columns.isin(['Gender', 'Customer Type', 'Type of Travel', 'Class', 'id', 'Unnamed: 0', 'Age', 'Flight Distance', 'Checkin service'])]"
   ]
  },
  {
   "cell_type": "markdown",
   "id": "ef15c6dc",
   "metadata": {},
   "source": [
    "<a id=\"153\"></a> <br>\n",
    "### C. Standardize the data"
   ]
  },
  {
   "cell_type": "code",
   "execution_count": 12,
   "id": "6cf99e20",
   "metadata": {},
   "outputs": [
    {
     "data": {
      "text/html": [
       "<div>\n",
       "<style scoped>\n",
       "    .dataframe tbody tr th:only-of-type {\n",
       "        vertical-align: middle;\n",
       "    }\n",
       "\n",
       "    .dataframe tbody tr th {\n",
       "        vertical-align: top;\n",
       "    }\n",
       "\n",
       "    .dataframe thead th {\n",
       "        text-align: right;\n",
       "    }\n",
       "</style>\n",
       "<table border=\"1\" class=\"dataframe\">\n",
       "  <thead>\n",
       "    <tr style=\"text-align: right;\">\n",
       "      <th></th>\n",
       "      <th>Inflight wifi service</th>\n",
       "      <th>Departure/Arrival time convenient</th>\n",
       "      <th>Ease of Online booking</th>\n",
       "      <th>Gate location</th>\n",
       "      <th>Food and drink</th>\n",
       "      <th>Online boarding</th>\n",
       "      <th>Seat comfort</th>\n",
       "      <th>Inflight entertainment</th>\n",
       "      <th>On-board service</th>\n",
       "      <th>Leg room service</th>\n",
       "      <th>Baggage handling</th>\n",
       "      <th>Inflight service</th>\n",
       "      <th>Cleanliness</th>\n",
       "      <th>Departure Delay in Minutes</th>\n",
       "      <th>Arrival Delay in Minutes</th>\n",
       "    </tr>\n",
       "  </thead>\n",
       "  <tbody>\n",
       "    <tr>\n",
       "      <th>0</th>\n",
       "      <td>3</td>\n",
       "      <td>4</td>\n",
       "      <td>3</td>\n",
       "      <td>1</td>\n",
       "      <td>5</td>\n",
       "      <td>3</td>\n",
       "      <td>5</td>\n",
       "      <td>5</td>\n",
       "      <td>4</td>\n",
       "      <td>3</td>\n",
       "      <td>4</td>\n",
       "      <td>5</td>\n",
       "      <td>5</td>\n",
       "      <td>25</td>\n",
       "      <td>18.0</td>\n",
       "    </tr>\n",
       "    <tr>\n",
       "      <th>1</th>\n",
       "      <td>3</td>\n",
       "      <td>2</td>\n",
       "      <td>3</td>\n",
       "      <td>3</td>\n",
       "      <td>1</td>\n",
       "      <td>3</td>\n",
       "      <td>1</td>\n",
       "      <td>1</td>\n",
       "      <td>1</td>\n",
       "      <td>5</td>\n",
       "      <td>3</td>\n",
       "      <td>4</td>\n",
       "      <td>1</td>\n",
       "      <td>1</td>\n",
       "      <td>6.0</td>\n",
       "    </tr>\n",
       "    <tr>\n",
       "      <th>2</th>\n",
       "      <td>2</td>\n",
       "      <td>2</td>\n",
       "      <td>2</td>\n",
       "      <td>2</td>\n",
       "      <td>5</td>\n",
       "      <td>5</td>\n",
       "      <td>5</td>\n",
       "      <td>5</td>\n",
       "      <td>4</td>\n",
       "      <td>3</td>\n",
       "      <td>4</td>\n",
       "      <td>4</td>\n",
       "      <td>5</td>\n",
       "      <td>0</td>\n",
       "      <td>0.0</td>\n",
       "    </tr>\n",
       "    <tr>\n",
       "      <th>3</th>\n",
       "      <td>2</td>\n",
       "      <td>5</td>\n",
       "      <td>5</td>\n",
       "      <td>5</td>\n",
       "      <td>2</td>\n",
       "      <td>2</td>\n",
       "      <td>2</td>\n",
       "      <td>2</td>\n",
       "      <td>2</td>\n",
       "      <td>5</td>\n",
       "      <td>3</td>\n",
       "      <td>4</td>\n",
       "      <td>2</td>\n",
       "      <td>11</td>\n",
       "      <td>9.0</td>\n",
       "    </tr>\n",
       "    <tr>\n",
       "      <th>4</th>\n",
       "      <td>3</td>\n",
       "      <td>3</td>\n",
       "      <td>3</td>\n",
       "      <td>3</td>\n",
       "      <td>4</td>\n",
       "      <td>5</td>\n",
       "      <td>5</td>\n",
       "      <td>3</td>\n",
       "      <td>3</td>\n",
       "      <td>4</td>\n",
       "      <td>4</td>\n",
       "      <td>3</td>\n",
       "      <td>3</td>\n",
       "      <td>0</td>\n",
       "      <td>0.0</td>\n",
       "    </tr>\n",
       "  </tbody>\n",
       "</table>\n",
       "</div>"
      ],
      "text/plain": [
       "   Inflight wifi service  Departure/Arrival time convenient  \\\n",
       "0                      3                                  4   \n",
       "1                      3                                  2   \n",
       "2                      2                                  2   \n",
       "3                      2                                  5   \n",
       "4                      3                                  3   \n",
       "\n",
       "   Ease of Online booking  Gate location  Food and drink  Online boarding  \\\n",
       "0                       3              1               5                3   \n",
       "1                       3              3               1                3   \n",
       "2                       2              2               5                5   \n",
       "3                       5              5               2                2   \n",
       "4                       3              3               4                5   \n",
       "\n",
       "   Seat comfort  Inflight entertainment  On-board service  Leg room service  \\\n",
       "0             5                       5                 4                 3   \n",
       "1             1                       1                 1                 5   \n",
       "2             5                       5                 4                 3   \n",
       "3             2                       2                 2                 5   \n",
       "4             5                       3                 3                 4   \n",
       "\n",
       "   Baggage handling  Inflight service  Cleanliness  \\\n",
       "0                 4                 5            5   \n",
       "1                 3                 4            1   \n",
       "2                 4                 4            5   \n",
       "3                 3                 4            2   \n",
       "4                 4                 3            3   \n",
       "\n",
       "   Departure Delay in Minutes  Arrival Delay in Minutes  \n",
       "0                          25                      18.0  \n",
       "1                           1                       6.0  \n",
       "2                           0                       0.0  \n",
       "3                          11                       9.0  \n",
       "4                           0                       0.0  "
      ]
     },
     "execution_count": 12,
     "metadata": {},
     "output_type": "execute_result"
    }
   ],
   "source": [
    "df.loc[:, ~df.columns.isin(['satisfaction'])].head()"
   ]
  },
  {
   "cell_type": "code",
   "execution_count": 13,
   "id": "857cb0b1",
   "metadata": {},
   "outputs": [
    {
     "data": {
      "text/plain": [
       "array([[ 3.,  4.,  3., ...,  5., 25., 18.],\n",
       "       [ 3.,  2.,  3., ...,  1.,  1.,  6.],\n",
       "       [ 2.,  2.,  2., ...,  5.,  0.,  0.],\n",
       "       ...,\n",
       "       [ 1.,  1.,  1., ...,  4.,  7., 14.],\n",
       "       [ 1.,  1.,  1., ...,  1.,  0.,  0.],\n",
       "       [ 1.,  3.,  3., ...,  1.,  0.,  0.]])"
      ]
     },
     "execution_count": 13,
     "metadata": {},
     "output_type": "execute_result"
    }
   ],
   "source": [
    "#Only keep numeric variables\n",
    "x = df.loc[:, ~df.columns.isin(['satisfaction'])].values\n",
    "x"
   ]
  },
  {
   "cell_type": "code",
   "execution_count": 14,
   "id": "c7812300",
   "metadata": {},
   "outputs": [],
   "source": [
    "x = StandardScaler().fit_transform(x)"
   ]
  },
  {
   "cell_type": "code",
   "execution_count": 15,
   "id": "b1fabfcc",
   "metadata": {},
   "outputs": [
    {
     "data": {
      "text/plain": [
       "array([['neutral or dissatisfied'],\n",
       "       ['neutral or dissatisfied'],\n",
       "       ['satisfied'],\n",
       "       ...,\n",
       "       ['neutral or dissatisfied'],\n",
       "       ['neutral or dissatisfied'],\n",
       "       ['neutral or dissatisfied']], dtype=object)"
      ]
     },
     "execution_count": 15,
     "metadata": {},
     "output_type": "execute_result"
    }
   ],
   "source": [
    "y = df.loc[:,['satisfaction']].values\n",
    "y"
   ]
  },
  {
   "cell_type": "code",
   "execution_count": 16,
   "id": "e7072bb3",
   "metadata": {},
   "outputs": [
    {
     "data": {
      "text/plain": [
       "Index(['Inflight wifi service', 'Departure/Arrival time convenient',\n",
       "       'Ease of Online booking', 'Gate location', 'Food and drink',\n",
       "       'Online boarding', 'Seat comfort', 'Inflight entertainment',\n",
       "       'On-board service', 'Leg room service', 'Baggage handling',\n",
       "       'Inflight service', 'Cleanliness', 'Departure Delay in Minutes',\n",
       "       'Arrival Delay in Minutes'],\n",
       "      dtype='object')"
      ]
     },
     "execution_count": 16,
     "metadata": {},
     "output_type": "execute_result"
    }
   ],
   "source": [
    "features = df.columns[0:15]\n",
    "features"
   ]
  },
  {
   "cell_type": "code",
   "execution_count": 17,
   "id": "5ee7abca",
   "metadata": {},
   "outputs": [
    {
     "data": {
      "text/html": [
       "<div>\n",
       "<style scoped>\n",
       "    .dataframe tbody tr th:only-of-type {\n",
       "        vertical-align: middle;\n",
       "    }\n",
       "\n",
       "    .dataframe tbody tr th {\n",
       "        vertical-align: top;\n",
       "    }\n",
       "\n",
       "    .dataframe thead th {\n",
       "        text-align: right;\n",
       "    }\n",
       "</style>\n",
       "<table border=\"1\" class=\"dataframe\">\n",
       "  <thead>\n",
       "    <tr style=\"text-align: right;\">\n",
       "      <th></th>\n",
       "      <th>Inflight wifi service</th>\n",
       "      <th>Departure/Arrival time convenient</th>\n",
       "      <th>Ease of Online booking</th>\n",
       "      <th>Gate location</th>\n",
       "      <th>Food and drink</th>\n",
       "      <th>Online boarding</th>\n",
       "      <th>Seat comfort</th>\n",
       "      <th>Inflight entertainment</th>\n",
       "      <th>On-board service</th>\n",
       "      <th>Leg room service</th>\n",
       "      <th>Baggage handling</th>\n",
       "      <th>Inflight service</th>\n",
       "      <th>Cleanliness</th>\n",
       "      <th>Departure Delay in Minutes</th>\n",
       "      <th>Arrival Delay in Minutes</th>\n",
       "    </tr>\n",
       "  </thead>\n",
       "  <tbody>\n",
       "    <tr>\n",
       "      <th>0</th>\n",
       "      <td>0.203521</td>\n",
       "      <td>0.616249</td>\n",
       "      <td>0.173716</td>\n",
       "      <td>-1.547312</td>\n",
       "      <td>1.352401</td>\n",
       "      <td>-0.185632</td>\n",
       "      <td>1.182991</td>\n",
       "      <td>1.231530</td>\n",
       "      <td>0.479237</td>\n",
       "      <td>-0.267143</td>\n",
       "      <td>0.311853</td>\n",
       "      <td>1.156211</td>\n",
       "      <td>1.305913</td>\n",
       "      <td>0.268966</td>\n",
       "      <td>0.072905</td>\n",
       "    </tr>\n",
       "    <tr>\n",
       "      <th>1</th>\n",
       "      <td>0.203521</td>\n",
       "      <td>-0.695032</td>\n",
       "      <td>0.173716</td>\n",
       "      <td>0.017981</td>\n",
       "      <td>-1.656487</td>\n",
       "      <td>-0.185632</td>\n",
       "      <td>-1.849863</td>\n",
       "      <td>-1.769166</td>\n",
       "      <td>-1.849452</td>\n",
       "      <td>1.253304</td>\n",
       "      <td>-0.534854</td>\n",
       "      <td>0.305580</td>\n",
       "      <td>-1.742432</td>\n",
       "      <td>-0.360682</td>\n",
       "      <td>-0.237184</td>\n",
       "    </tr>\n",
       "    <tr>\n",
       "      <th>2</th>\n",
       "      <td>-0.549571</td>\n",
       "      <td>-0.695032</td>\n",
       "      <td>-0.541118</td>\n",
       "      <td>-0.764666</td>\n",
       "      <td>1.352401</td>\n",
       "      <td>1.296479</td>\n",
       "      <td>1.182991</td>\n",
       "      <td>1.231530</td>\n",
       "      <td>0.479237</td>\n",
       "      <td>-0.267143</td>\n",
       "      <td>0.311853</td>\n",
       "      <td>0.305580</td>\n",
       "      <td>1.305913</td>\n",
       "      <td>-0.386917</td>\n",
       "      <td>-0.392229</td>\n",
       "    </tr>\n",
       "    <tr>\n",
       "      <th>3</th>\n",
       "      <td>-0.549571</td>\n",
       "      <td>1.271890</td>\n",
       "      <td>1.603383</td>\n",
       "      <td>1.583273</td>\n",
       "      <td>-0.904265</td>\n",
       "      <td>-0.926688</td>\n",
       "      <td>-1.091649</td>\n",
       "      <td>-1.018992</td>\n",
       "      <td>-1.073222</td>\n",
       "      <td>1.253304</td>\n",
       "      <td>-0.534854</td>\n",
       "      <td>0.305580</td>\n",
       "      <td>-0.980345</td>\n",
       "      <td>-0.098328</td>\n",
       "      <td>-0.159662</td>\n",
       "    </tr>\n",
       "    <tr>\n",
       "      <th>4</th>\n",
       "      <td>0.203521</td>\n",
       "      <td>-0.039391</td>\n",
       "      <td>0.173716</td>\n",
       "      <td>0.017981</td>\n",
       "      <td>0.600179</td>\n",
       "      <td>1.296479</td>\n",
       "      <td>1.182991</td>\n",
       "      <td>-0.268818</td>\n",
       "      <td>-0.296993</td>\n",
       "      <td>0.493081</td>\n",
       "      <td>0.311853</td>\n",
       "      <td>-0.545051</td>\n",
       "      <td>-0.218259</td>\n",
       "      <td>-0.386917</td>\n",
       "      <td>-0.392229</td>\n",
       "    </tr>\n",
       "  </tbody>\n",
       "</table>\n",
       "</div>"
      ],
      "text/plain": [
       "   Inflight wifi service  Departure/Arrival time convenient  \\\n",
       "0               0.203521                           0.616249   \n",
       "1               0.203521                          -0.695032   \n",
       "2              -0.549571                          -0.695032   \n",
       "3              -0.549571                           1.271890   \n",
       "4               0.203521                          -0.039391   \n",
       "\n",
       "   Ease of Online booking  Gate location  Food and drink  Online boarding  \\\n",
       "0                0.173716      -1.547312        1.352401        -0.185632   \n",
       "1                0.173716       0.017981       -1.656487        -0.185632   \n",
       "2               -0.541118      -0.764666        1.352401         1.296479   \n",
       "3                1.603383       1.583273       -0.904265        -0.926688   \n",
       "4                0.173716       0.017981        0.600179         1.296479   \n",
       "\n",
       "   Seat comfort  Inflight entertainment  On-board service  Leg room service  \\\n",
       "0      1.182991                1.231530          0.479237         -0.267143   \n",
       "1     -1.849863               -1.769166         -1.849452          1.253304   \n",
       "2      1.182991                1.231530          0.479237         -0.267143   \n",
       "3     -1.091649               -1.018992         -1.073222          1.253304   \n",
       "4      1.182991               -0.268818         -0.296993          0.493081   \n",
       "\n",
       "   Baggage handling  Inflight service  Cleanliness  \\\n",
       "0          0.311853          1.156211     1.305913   \n",
       "1         -0.534854          0.305580    -1.742432   \n",
       "2          0.311853          0.305580     1.305913   \n",
       "3         -0.534854          0.305580    -0.980345   \n",
       "4          0.311853         -0.545051    -0.218259   \n",
       "\n",
       "   Departure Delay in Minutes  Arrival Delay in Minutes  \n",
       "0                    0.268966                  0.072905  \n",
       "1                   -0.360682                 -0.237184  \n",
       "2                   -0.386917                 -0.392229  \n",
       "3                   -0.098328                 -0.159662  \n",
       "4                   -0.386917                 -0.392229  "
      ]
     },
     "execution_count": 17,
     "metadata": {},
     "output_type": "execute_result"
    }
   ],
   "source": [
    "df_scale = pd.DataFrame(data = x, columns = features)\n",
    "df_scale.head()"
   ]
  },
  {
   "cell_type": "markdown",
   "id": "24ab0af4",
   "metadata": {},
   "source": [
    "<a id=\"16\"></a> <br>\n",
    "## 6. Factor Analysis"
   ]
  },
  {
   "cell_type": "markdown",
   "id": "157ae5e5",
   "metadata": {},
   "source": [
    "<a id=\"161\"></a> <br>\n",
    "### A. Use Screeplot to determine number of factors"
   ]
  },
  {
   "cell_type": "code",
   "execution_count": 18,
   "id": "e70b3f35",
   "metadata": {},
   "outputs": [
    {
     "data": {
      "text/plain": [
       "FactorAnalyzer(n_factors=16, rotation='varimax', rotation_kwargs={})"
      ]
     },
     "execution_count": 18,
     "metadata": {},
     "output_type": "execute_result"
    }
   ],
   "source": [
    "fa = FactorAnalyzer(n_factors=16, rotation=\"varimax\") #Use varimax to increase interpretation\n",
    "fa.fit(df_scale)"
   ]
  },
  {
   "cell_type": "code",
   "execution_count": 19,
   "id": "f678b615",
   "metadata": {},
   "outputs": [
    {
     "data": {
      "image/png": "[encoded data removed]",
      "text/plain": [
       "<Figure size 432x288 with 1 Axes>"
      ]
     },
     "metadata": {
      "needs_background": "light"
     },
     "output_type": "display_data"
    }
   ],
   "source": [
    "ev, v = fa.get_eigenvalues()\n",
    "plt.plot(range(1, 16), ev[:15], marker='o') \n",
    "plt.title('Scree Plot')\n",
    "plt.xlabel('Factors')\n",
    "plt.ylabel('Eigenvalue')\n",
    "plt.axhline(y=1, color='r', linestyle='-')\n",
    "plt.show()"
   ]
  },
  {
   "cell_type": "markdown",
   "id": "7c799ad0",
   "metadata": {},
   "source": [
    "5 factors are suggested from Scree plot."
   ]
  },
  {
   "cell_type": "markdown",
   "id": "886e1aaf",
   "metadata": {},
   "source": [
    "<a id=\"162\"></a> <br>\n",
    "### B. Factor analysis with 5 factors"
   ]
  },
  {
   "cell_type": "code",
   "execution_count": 20,
   "id": "18b0e59f",
   "metadata": {},
   "outputs": [
    {
     "data": {
      "text/plain": [
       "FactorAnalyzer(n_factors=5, rotation='varimax', rotation_kwargs={})"
      ]
     },
     "execution_count": 20,
     "metadata": {},
     "output_type": "execute_result"
    }
   ],
   "source": [
    "fa = FactorAnalyzer(n_factors=5, rotation=\"varimax\")\n",
    "fa.fit(df_scale)"
   ]
  },
  {
   "cell_type": "code",
   "execution_count": 21,
   "id": "5656d1ee",
   "metadata": {},
   "outputs": [
    {
     "data": {
      "text/html": [
       "<div>\n",
       "<style scoped>\n",
       "    .dataframe tbody tr th:only-of-type {\n",
       "        vertical-align: middle;\n",
       "    }\n",
       "\n",
       "    .dataframe tbody tr th {\n",
       "        vertical-align: top;\n",
       "    }\n",
       "\n",
       "    .dataframe thead th {\n",
       "        text-align: right;\n",
       "    }\n",
       "</style>\n",
       "<table border=\"1\" class=\"dataframe\">\n",
       "  <thead>\n",
       "    <tr style=\"text-align: right;\">\n",
       "      <th></th>\n",
       "      <th>Factor 1</th>\n",
       "      <th>Factor 2</th>\n",
       "      <th>Factor 3</th>\n",
       "      <th>Factor 4</th>\n",
       "      <th>Factor 5</th>\n",
       "    </tr>\n",
       "  </thead>\n",
       "  <tbody>\n",
       "    <tr>\n",
       "      <th>Inflight wifi service</th>\n",
       "      <td>0.090932</td>\n",
       "      <td>0.133234</td>\n",
       "      <td>-0.010398</td>\n",
       "      <td>0.483892</td>\n",
       "      <td>0.623059</td>\n",
       "    </tr>\n",
       "    <tr>\n",
       "      <th>Departure/Arrival time convenient</th>\n",
       "      <td>-0.010304</td>\n",
       "      <td>0.054888</td>\n",
       "      <td>-0.000058</td>\n",
       "      <td>0.602024</td>\n",
       "      <td>0.087468</td>\n",
       "    </tr>\n",
       "    <tr>\n",
       "      <th>Ease of Online booking</th>\n",
       "      <td>-0.040320</td>\n",
       "      <td>0.030189</td>\n",
       "      <td>-0.003142</td>\n",
       "      <td>0.645227</td>\n",
       "      <td>0.626126</td>\n",
       "    </tr>\n",
       "    <tr>\n",
       "      <th>Gate location</th>\n",
       "      <td>0.004729</td>\n",
       "      <td>-0.033380</td>\n",
       "      <td>0.004474</td>\n",
       "      <td>0.713676</td>\n",
       "      <td>0.006543</td>\n",
       "    </tr>\n",
       "    <tr>\n",
       "      <th>Food and drink</th>\n",
       "      <td>0.765687</td>\n",
       "      <td>-0.006267</td>\n",
       "      <td>-0.018718</td>\n",
       "      <td>0.030156</td>\n",
       "      <td>0.042977</td>\n",
       "    </tr>\n",
       "    <tr>\n",
       "      <th>Online boarding</th>\n",
       "      <td>0.307542</td>\n",
       "      <td>0.088762</td>\n",
       "      <td>-0.009237</td>\n",
       "      <td>-0.007077</td>\n",
       "      <td>0.680321</td>\n",
       "    </tr>\n",
       "    <tr>\n",
       "      <th>Seat comfort</th>\n",
       "      <td>0.761438</td>\n",
       "      <td>0.054598</td>\n",
       "      <td>-0.013430</td>\n",
       "      <td>-0.043699</td>\n",
       "      <td>0.179048</td>\n",
       "    </tr>\n",
       "    <tr>\n",
       "      <th>Inflight entertainment</th>\n",
       "      <td>0.773511</td>\n",
       "      <td>0.469869</td>\n",
       "      <td>-0.009175</td>\n",
       "      <td>0.020124</td>\n",
       "      <td>0.060684</td>\n",
       "    </tr>\n",
       "    <tr>\n",
       "      <th>On-board service</th>\n",
       "      <td>0.099558</td>\n",
       "      <td>0.690874</td>\n",
       "      <td>-0.021339</td>\n",
       "      <td>-0.006980</td>\n",
       "      <td>0.063193</td>\n",
       "    </tr>\n",
       "    <tr>\n",
       "      <th>Leg room service</th>\n",
       "      <td>0.063689</td>\n",
       "      <td>0.482470</td>\n",
       "      <td>0.022840</td>\n",
       "      <td>0.005416</td>\n",
       "      <td>0.124565</td>\n",
       "    </tr>\n",
       "    <tr>\n",
       "      <th>Baggage handling</th>\n",
       "      <td>0.046330</td>\n",
       "      <td>0.761212</td>\n",
       "      <td>0.004411</td>\n",
       "      <td>0.040751</td>\n",
       "      <td>-0.005854</td>\n",
       "    </tr>\n",
       "    <tr>\n",
       "      <th>Inflight service</th>\n",
       "      <td>0.045053</td>\n",
       "      <td>0.799194</td>\n",
       "      <td>-0.045662</td>\n",
       "      <td>0.044105</td>\n",
       "      <td>-0.026350</td>\n",
       "    </tr>\n",
       "    <tr>\n",
       "      <th>Cleanliness</th>\n",
       "      <td>0.857317</td>\n",
       "      <td>0.062752</td>\n",
       "      <td>0.001295</td>\n",
       "      <td>-0.001571</td>\n",
       "      <td>0.083870</td>\n",
       "    </tr>\n",
       "    <tr>\n",
       "      <th>Departure Delay in Minutes</th>\n",
       "      <td>-0.015859</td>\n",
       "      <td>-0.012408</td>\n",
       "      <td>0.969999</td>\n",
       "      <td>0.001462</td>\n",
       "      <td>-0.006679</td>\n",
       "    </tr>\n",
       "    <tr>\n",
       "      <th>Arrival Delay in Minutes</th>\n",
       "      <td>-0.017818</td>\n",
       "      <td>-0.016512</td>\n",
       "      <td>0.994770</td>\n",
       "      <td>0.000769</td>\n",
       "      <td>-0.008760</td>\n",
       "    </tr>\n",
       "  </tbody>\n",
       "</table>\n",
       "</div>"
      ],
      "text/plain": [
       "                                   Factor 1  Factor 2  Factor 3  Factor 4  \\\n",
       "Inflight wifi service              0.090932  0.133234 -0.010398  0.483892   \n",
       "Departure/Arrival time convenient -0.010304  0.054888 -0.000058  0.602024   \n",
       "Ease of Online booking            -0.040320  0.030189 -0.003142  0.645227   \n",
       "Gate location                      0.004729 -0.033380  0.004474  0.713676   \n",
       "Food and drink                     0.765687 -0.006267 -0.018718  0.030156   \n",
       "Online boarding                    0.307542  0.088762 -0.009237 -0.007077   \n",
       "Seat comfort                       0.761438  0.054598 -0.013430 -0.043699   \n",
       "Inflight entertainment             0.773511  0.469869 -0.009175  0.020124   \n",
       "On-board service                   0.099558  0.690874 -0.021339 -0.006980   \n",
       "Leg room service                   0.063689  0.482470  0.022840  0.005416   \n",
       "Baggage handling                   0.046330  0.761212  0.004411  0.040751   \n",
       "Inflight service                   0.045053  0.799194 -0.045662  0.044105   \n",
       "Cleanliness                        0.857317  0.062752  0.001295 -0.001571   \n",
       "Departure Delay in Minutes        -0.015859 -0.012408  0.969999  0.001462   \n",
       "Arrival Delay in Minutes          -0.017818 -0.016512  0.994770  0.000769   \n",
       "\n",
       "                                   Factor 5  \n",
       "Inflight wifi service              0.623059  \n",
       "Departure/Arrival time convenient  0.087468  \n",
       "Ease of Online booking             0.626126  \n",
       "Gate location                      0.006543  \n",
       "Food and drink                     0.042977  \n",
       "Online boarding                    0.680321  \n",
       "Seat comfort                       0.179048  \n",
       "Inflight entertainment             0.060684  \n",
       "On-board service                   0.063193  \n",
       "Leg room service                   0.124565  \n",
       "Baggage handling                  -0.005854  \n",
       "Inflight service                  -0.026350  \n",
       "Cleanliness                        0.083870  \n",
       "Departure Delay in Minutes        -0.006679  \n",
       "Arrival Delay in Minutes          -0.008760  "
      ]
     },
     "execution_count": 21,
     "metadata": {},
     "output_type": "execute_result"
    }
   ],
   "source": [
    "loadings = pd.DataFrame(fa.loadings_, index=df_scale.columns)\n",
    "loadings = loadings.rename(columns={0: 'Factor 1', 1: 'Factor 2', 2: 'Factor 3', 3: 'Factor 4', 4: 'Factor 5'})\n",
    "loadings"
   ]
  },
  {
   "cell_type": "code",
   "execution_count": 22,
   "id": "ff6997c2",
   "metadata": {},
   "outputs": [
    {
     "data": {
      "image/png": "[encoded data removed]",
      "text/plain": [
       "<Figure size 720x576 with 2 Axes>"
      ]
     },
     "metadata": {
      "needs_background": "light"
     },
     "output_type": "display_data"
    }
   ],
   "source": [
    "plt.figure(figsize=(10, 8))\n",
    "sns.heatmap(loadings, cmap='coolwarm', annot=True, fmt='.2f', center=0, vmin=-1, vmax=1, square=True)\n",
    "plt.title('Factor Analysis Loadings Heatmap')\n",
    "plt.show()"
   ]
  },
  {
   "cell_type": "markdown",
   "id": "0c78ed31",
   "metadata": {},
   "source": [
    "Varimax rotation produced clearer categorization for the variables. Specifically:\n",
    "\n",
    "__In-flight experience__ (Factor 1): Cleanliness, Seat comfort, Food and drink, Inflight entertainment\n",
    "\n",
    "__Service__ (Factor 2): Inflight service, Baggage handling, On board service\n",
    "\n",
    "__Punctuation__ (Factor 3): Departure Delay in Minutes, Arrival Delay in Minutes\n",
    "\n",
    "__Convenience__ (Factor 4): Gate location, Departure / Arrival time convenient, Ease of Online booking\n",
    "\n",
    "__Technology__ (Factor 5): Ease of Online booking, Online boarding and Inflight wifi service"
   ]
  },
  {
   "cell_type": "markdown",
   "id": "d1474cf7",
   "metadata": {},
   "source": [
    "<a id=\"17\"></a> <br>\n",
    "## 7. Splitting Data into Training and Test Sets\n",
    "Use 30% testing dataset to evaluate the accuracy of logistics regression, LDA and random forest."
   ]
  },
  {
   "cell_type": "code",
   "execution_count": 23,
   "id": "df322a46",
   "metadata": {},
   "outputs": [],
   "source": [
    "X_train, X_test, y_train, y_test = train_test_split(x, \n",
    "                                                    y, \n",
    "                                                    test_size=0.30, \n",
    "                                                    random_state=101)"
   ]
  },
  {
   "cell_type": "code",
   "execution_count": 24,
   "id": "a9d2fa7e",
   "metadata": {},
   "outputs": [
    {
     "name": "stdout",
     "output_type": "stream",
     "text": [
      "(72515, 15)\n",
      "(72515, 1)\n",
      "(31079, 15)\n",
      "(31079, 1)\n"
     ]
    }
   ],
   "source": [
    "print(X_train.shape)\n",
    "print(y_train.shape)\n",
    "print(X_test.shape)\n",
    "print(y_test.shape)"
   ]
  },
  {
   "cell_type": "markdown",
   "id": "95e41be1",
   "metadata": {},
   "source": [
    "<a id=\"18\"></a> <br>\n",
    "## 8. Logistic regression (with using PCA pre-processing)"
   ]
  },
  {
   "cell_type": "markdown",
   "id": "edbed9d8",
   "metadata": {},
   "source": [
    "<a id=\"181\"></a> <br>\n",
    "### A. Apply PCA"
   ]
  },
  {
   "cell_type": "code",
   "execution_count": 25,
   "id": "d3fd05e6",
   "metadata": {},
   "outputs": [],
   "source": [
    "pca = PCA(.85) #Select number of PCAs that already capture 85% of variance"
   ]
  },
  {
   "cell_type": "code",
   "execution_count": 26,
   "id": "c7f1aa85",
   "metadata": {},
   "outputs": [
    {
     "data": {
      "text/plain": [
       "PCA(n_components=0.85)"
      ]
     },
     "execution_count": 26,
     "metadata": {},
     "output_type": "execute_result"
    }
   ],
   "source": [
    "pca.fit(X_train)"
   ]
  },
  {
   "cell_type": "code",
   "execution_count": 27,
   "id": "b9fbf7df",
   "metadata": {},
   "outputs": [
    {
     "data": {
      "text/plain": [
       "8"
      ]
     },
     "execution_count": 27,
     "metadata": {},
     "output_type": "execute_result"
    }
   ],
   "source": [
    "pca.n_components_"
   ]
  },
  {
   "cell_type": "markdown",
   "id": "6c94916a",
   "metadata": {},
   "source": [
    "Apply the mapping (transform) to both the training set and the test set."
   ]
  },
  {
   "cell_type": "code",
   "execution_count": 28,
   "id": "37d80769",
   "metadata": {},
   "outputs": [],
   "source": [
    "X_train = pca.transform(X_train)\n",
    "X_test = pca.transform(X_test)"
   ]
  },
  {
   "cell_type": "markdown",
   "id": "e378bc2e",
   "metadata": {},
   "source": [
    "<a id=\"182\"></a> <br>\n",
    "### B. Define function and use gridsearch for the best hyperparameters"
   ]
  },
  {
   "cell_type": "code",
   "execution_count": 29,
   "id": "f7d904e5",
   "metadata": {},
   "outputs": [],
   "source": [
    "def find_hyperparameters(cv_val: int):\n",
    "    grid={\"C\":np.logspace(-3,3,7), \"penalty\":[\"l1\",\"l2\"], 'solver'  : ['newton-cg', 'lbfgs', 'liblinear']}# l1 lasso l2 ridge\n",
    "    logreg = LogisticRegression()\n",
    "    logreg_cv = GridSearchCV(logreg,grid,cv=cv_val)\n",
    "    logreg_cv.fit(X_train,y_train)\n",
    "    \n",
    "    print(\"Tuned hyperparameters :(best parameters) \",logreg_cv.best_params_)\n",
    "    print(\"Accuracy :\",logreg_cv.best_score_)"
   ]
  },
  {
   "cell_type": "code",
   "execution_count": 30,
   "id": "88682f71",
   "metadata": {},
   "outputs": [
    {
     "name": "stdout",
     "output_type": "stream",
     "text": [
      "Tuned hyperparameters :(best parameters)  {'C': 0.01, 'penalty': 'l1', 'solver': 'liblinear'}\n",
      "Accuracy : 0.8106322791365037\n"
     ]
    }
   ],
   "source": [
    "find_hyperparameters(2)"
   ]
  },
  {
   "cell_type": "code",
   "execution_count": 31,
   "id": "750d9b7e",
   "metadata": {},
   "outputs": [],
   "source": [
    "logisticRegr = LogisticRegression(C=0.01, penalty = 'l1', solver= 'liblinear')"
   ]
  },
  {
   "cell_type": "code",
   "execution_count": 32,
   "id": "fb1b065f",
   "metadata": {},
   "outputs": [],
   "source": [
    "start_time = time.time()\n",
    "logisticRegr.fit(X_train, y_train)\n",
    "end_time = time.time()"
   ]
  },
  {
   "cell_type": "code",
   "execution_count": 33,
   "id": "9b0de2df",
   "metadata": {},
   "outputs": [
    {
     "data": {
      "text/plain": [
       "array(['neutral or dissatisfied'], dtype=object)"
      ]
     },
     "execution_count": 33,
     "metadata": {},
     "output_type": "execute_result"
    }
   ],
   "source": [
    "# Predict for One Observation\n",
    "logisticRegr.predict(X_test[0].reshape(1,-1))"
   ]
  },
  {
   "cell_type": "code",
   "execution_count": 34,
   "id": "80c0eeb7",
   "metadata": {},
   "outputs": [
    {
     "data": {
      "text/plain": [
       "array(['neutral or dissatisfied', 'neutral or dissatisfied', 'satisfied',\n",
       "       ..., 'neutral or dissatisfied', 'neutral or dissatisfied',\n",
       "       'neutral or dissatisfied'], dtype=object)"
      ]
     },
     "execution_count": 34,
     "metadata": {},
     "output_type": "execute_result"
    }
   ],
   "source": [
    "# Predict for Multiple Observations at Once\n",
    "y_pred =logisticRegr.predict(X_test)\n",
    "y_pred"
   ]
  },
  {
   "cell_type": "markdown",
   "id": "fd5f19f9",
   "metadata": {},
   "source": [
    "<a id=\"183\"></a> <br>\n",
    "### C. Measuring Model Performance"
   ]
  },
  {
   "cell_type": "code",
   "execution_count": 35,
   "id": "037549f9",
   "metadata": {},
   "outputs": [
    {
     "name": "stdout",
     "output_type": "stream",
     "text": [
      "0.8093889764792948\n"
     ]
    }
   ],
   "source": [
    "score = logisticRegr.score(X_test, y_test)\n",
    "print(score)"
   ]
  },
  {
   "cell_type": "code",
   "execution_count": 36,
   "id": "fdea13e0",
   "metadata": {},
   "outputs": [
    {
     "name": "stdout",
     "output_type": "stream",
     "text": [
      "Time taken: 0.17 seconds\n"
     ]
    }
   ],
   "source": [
    "total_time = end_time - start_time\n",
    "print(\"Time taken: {:.2f} seconds\".format(total_time))"
   ]
  },
  {
   "cell_type": "markdown",
   "id": "ba51f177",
   "metadata": {},
   "source": [
    "<a id=\"184\"></a> <br>\n",
    "### D. Evaluation - classification accuracy"
   ]
  },
  {
   "cell_type": "code",
   "execution_count": 37,
   "id": "709a0224",
   "metadata": {},
   "outputs": [
    {
     "name": "stdout",
     "output_type": "stream",
     "text": [
      "                         precision    recall  f1-score   support\n",
      "\n",
      "neutral or dissatisfied       0.82      0.85      0.83     17615\n",
      "              satisfied       0.79      0.76      0.78     13464\n",
      "\n",
      "               accuracy                           0.81     31079\n",
      "              macro avg       0.81      0.80      0.80     31079\n",
      "           weighted avg       0.81      0.81      0.81     31079\n",
      "\n"
     ]
    }
   ],
   "source": [
    "print(classification_report(y_test,y_pred))"
   ]
  },
  {
   "cell_type": "markdown",
   "id": "a6540e45",
   "metadata": {},
   "source": [
    "<a id=\"19\"></a> <br>\n",
    "## 9. Linear Discriminant Analysis (LDA)"
   ]
  },
  {
   "cell_type": "markdown",
   "id": "44f1b589",
   "metadata": {},
   "source": [
    "<a id=\"191\"></a> <br>\n",
    "### A. Apply LDA"
   ]
  },
  {
   "cell_type": "code",
   "execution_count": 38,
   "id": "474162e0",
   "metadata": {},
   "outputs": [],
   "source": [
    "lda = LinearDiscriminantAnalysis(n_components=1) #2 response variables; 1 component"
   ]
  },
  {
   "cell_type": "code",
   "execution_count": 39,
   "id": "0c0c135b",
   "metadata": {},
   "outputs": [],
   "source": [
    "start_time = time.time()\n",
    "X_lda = lda.fit_transform(X_train, y_train)\n",
    "end_time = time.time()"
   ]
  },
  {
   "cell_type": "code",
   "execution_count": 40,
   "id": "4a8c4379",
   "metadata": {},
   "outputs": [
    {
     "data": {
      "text/plain": [
       "array(['neutral or dissatisfied', 'neutral or dissatisfied', 'satisfied',\n",
       "       ..., 'neutral or dissatisfied', 'neutral or dissatisfied',\n",
       "       'neutral or dissatisfied'], dtype='<U23')"
      ]
     },
     "execution_count": 40,
     "metadata": {},
     "output_type": "execute_result"
    }
   ],
   "source": [
    "# Prediction\n",
    "y_pred_lda = lda.predict(X_test)\n",
    "y_pred_lda"
   ]
  },
  {
   "cell_type": "markdown",
   "id": "2581bd4f",
   "metadata": {},
   "source": [
    "<a id=\"192\"></a> <br>\n",
    "### B. Measuring Model Performance"
   ]
  },
  {
   "cell_type": "code",
   "execution_count": 41,
   "id": "1941057e",
   "metadata": {},
   "outputs": [
    {
     "name": "stdout",
     "output_type": "stream",
     "text": [
      "0.8071366517584221\n"
     ]
    }
   ],
   "source": [
    "score_lda = lda.score(X_test, y_test)\n",
    "print(score_lda)"
   ]
  },
  {
   "cell_type": "code",
   "execution_count": 42,
   "id": "56c0544e",
   "metadata": {},
   "outputs": [
    {
     "name": "stdout",
     "output_type": "stream",
     "text": [
      "Time taken: 0.25 seconds\n"
     ]
    }
   ],
   "source": [
    "total_time_lda = end_time - start_time\n",
    "print(\"Time taken: {:.2f} seconds\".format(total_time_lda))"
   ]
  },
  {
   "cell_type": "markdown",
   "id": "0d33bbfe",
   "metadata": {},
   "source": [
    "<a id=\"193\"></a> <br>\n",
    "### C. Evaluation - classification accuracy"
   ]
  },
  {
   "cell_type": "code",
   "execution_count": 43,
   "id": "58ffc667",
   "metadata": {},
   "outputs": [
    {
     "name": "stdout",
     "output_type": "stream",
     "text": [
      "                         precision    recall  f1-score   support\n",
      "\n",
      "neutral or dissatisfied       0.82      0.84      0.83     17615\n",
      "              satisfied       0.78      0.77      0.78     13464\n",
      "\n",
      "               accuracy                           0.81     31079\n",
      "              macro avg       0.80      0.80      0.80     31079\n",
      "           weighted avg       0.81      0.81      0.81     31079\n",
      "\n"
     ]
    }
   ],
   "source": [
    "print(classification_report(y_test,y_pred_lda))"
   ]
  },
  {
   "cell_type": "markdown",
   "id": "1ed7f595",
   "metadata": {},
   "source": [
    "<a id=\"110\"></a> <br>\n",
    "## 10. Random Forest"
   ]
  },
  {
   "cell_type": "markdown",
   "id": "c5b048aa",
   "metadata": {},
   "source": [
    "<a id=\"101\"></a> <br>\n",
    "### A. Use GridSearch to determine the optimal value of n_estimators"
   ]
  },
  {
   "cell_type": "code",
   "execution_count": 44,
   "id": "f9a93f0d",
   "metadata": {},
   "outputs": [
    {
     "name": "stdout",
     "output_type": "stream",
     "text": [
      "Best parameter: {'n_estimators': 200}\n",
      "Best score: 0.908846445562987\n"
     ]
    }
   ],
   "source": [
    "y_train_ravel = np.ravel(y_train) #convert the target variable into a 1D array to avoid warning in RandomForestClassifier\n",
    "\n",
    "param_grid = {\n",
    "    'n_estimators': [50, 100, 150, 200, 250, 300]\n",
    "}\n",
    "\n",
    "rf = RandomForestClassifier()\n",
    "\n",
    "grid_search = GridSearchCV(\n",
    "    estimator=rf, \n",
    "    param_grid=param_grid, \n",
    "    cv=5,  # number of folds for cross-validation\n",
    "    scoring='accuracy',  # evaluation metric\n",
    "    n_jobs=-1  # use all available processors\n",
    ")\n",
    "\n",
    "grid_search.fit(X_train, y_train_ravel)\n",
    "\n",
    "print(f\"Best parameter: {grid_search.best_params_}\")\n",
    "print(f\"Best score: {grid_search.best_score_}\")"
   ]
  },
  {
   "cell_type": "markdown",
   "id": "de34059a",
   "metadata": {},
   "source": [
    "<a id=\"102\"></a> <br>\n",
    "### B. Run Random Forest"
   ]
  },
  {
   "cell_type": "code",
   "execution_count": 45,
   "id": "b893e7e2",
   "metadata": {},
   "outputs": [],
   "source": [
    "rf = RandomForestClassifier(n_estimators=200, random_state=123)"
   ]
  },
  {
   "cell_type": "code",
   "execution_count": 46,
   "id": "8eaff09a",
   "metadata": {},
   "outputs": [],
   "source": [
    "start_time = time.time()\n",
    "rf.fit(X_train, y_train_ravel)\n",
    "end_time = time.time()"
   ]
  },
  {
   "cell_type": "code",
   "execution_count": 47,
   "id": "60b277c2",
   "metadata": {},
   "outputs": [],
   "source": [
    "# Prediction\n",
    "y_pred_rf = rf.predict(X_test)"
   ]
  },
  {
   "cell_type": "markdown",
   "id": "72760430",
   "metadata": {},
   "source": [
    "<a id=\"103\"></a> <br>\n",
    "### C. Measuring Model Performance"
   ]
  },
  {
   "cell_type": "code",
   "execution_count": 48,
   "id": "b67e4b4b",
   "metadata": {},
   "outputs": [
    {
     "name": "stdout",
     "output_type": "stream",
     "text": [
      "0.9097461308278902\n"
     ]
    }
   ],
   "source": [
    "score_rf = rf.score(X_test, y_test)\n",
    "print(score_rf)"
   ]
  },
  {
   "cell_type": "code",
   "execution_count": 49,
   "id": "2509f1ec",
   "metadata": {},
   "outputs": [
    {
     "name": "stdout",
     "output_type": "stream",
     "text": [
      "Time taken: 28.16 seconds\n"
     ]
    }
   ],
   "source": [
    "total_time_rf = end_time - start_time\n",
    "print(\"Time taken: {:.2f} seconds\".format(total_time_rf))"
   ]
  },
  {
   "cell_type": "markdown",
   "id": "0a5c8fe0",
   "metadata": {},
   "source": [
    "<a id=\"104\"></a> <br>\n",
    "### D. Evaluation - classification accuracy"
   ]
  },
  {
   "cell_type": "code",
   "execution_count": 50,
   "id": "497b6a22",
   "metadata": {},
   "outputs": [
    {
     "name": "stdout",
     "output_type": "stream",
     "text": [
      "                         precision    recall  f1-score   support\n",
      "\n",
      "neutral or dissatisfied       0.90      0.94      0.92     17615\n",
      "              satisfied       0.92      0.87      0.89     13464\n",
      "\n",
      "               accuracy                           0.91     31079\n",
      "              macro avg       0.91      0.91      0.91     31079\n",
      "           weighted avg       0.91      0.91      0.91     31079\n",
      "\n"
     ]
    }
   ],
   "source": [
    "print(classification_report(y_test,y_pred_rf))"
   ]
  },
  {
   "cell_type": "markdown",
   "id": "3f9e473a",
   "metadata": {},
   "source": [
    "<a id=\"105\"></a> <br>\n",
    "### 5. Finding important features in Random Forest"
   ]
  },
  {
   "cell_type": "markdown",
   "id": "02ddd2ec",
   "metadata": {},
   "source": [
    "It is common to see that the number of important features identified by rfc.feature_importances_ is less than the total number of features in the original dataset. "
   ]
  },
  {
   "cell_type": "code",
   "execution_count": 54,
   "id": "27ec4d19",
   "metadata": {},
   "outputs": [
    {
     "name": "stdout",
     "output_type": "stream",
     "text": [
      "Index(['Inflight wifi service', 'Food and drink',\n",
      "       'Departure/Arrival time convenient', 'Seat comfort',\n",
      "       'Inflight entertainment', 'Online boarding', 'Ease of Online booking',\n",
      "       'Gate location'],\n",
      "      dtype='object')\n"
     ]
    }
   ],
   "source": [
    "importance_indices = rf.feature_importances_.argsort()[::-1]\n",
    "important_features = df_scale.columns[importance_indices]\n",
    "print(important_features)"
   ]
  },
  {
   "cell_type": "code",
   "execution_count": 55,
   "id": "2a50e445",
   "metadata": {},
   "outputs": [
    {
     "data": {
      "text/plain": [
       "Inflight wifi service                0.302381\n",
       "Inflight entertainment               0.159638\n",
       "Food and drink                       0.150213\n",
       "Ease of Online booking               0.095106\n",
       "Gate location                        0.088669\n",
       "Online boarding                      0.077167\n",
       "Departure/Arrival time convenient    0.068113\n",
       "Seat comfort                         0.058713\n",
       "dtype: float64"
      ]
     },
     "execution_count": 55,
     "metadata": {},
     "output_type": "execute_result"
    }
   ],
   "source": [
    "feature_imp = pd.Series(rf.feature_importances_,index=important_features).sort_values(ascending=False)\n",
    "feature_imp"
   ]
  },
  {
   "cell_type": "code",
   "execution_count": 56,
   "id": "c8152c11",
   "metadata": {},
   "outputs": [
    {
     "name": "stderr",
     "output_type": "stream",
     "text": [
      "No artists with labels found to put in legend.  Note that artists whose label start with an underscore are ignored when legend() is called with no argument.\n"
     ]
    },
    {
     "data": {
      "image/png": "[encoded data removed]",
      "text/plain": [
       "<Figure size 432x288 with 1 Axes>"
      ]
     },
     "metadata": {
      "needs_background": "light"
     },
     "output_type": "display_data"
    }
   ],
   "source": [
    "# Creating a bar plot\n",
    "sns.barplot(x=feature_imp, y=feature_imp.index)\n",
    "# Add labels to your graph\n",
    "plt.xlabel('Feature Importance Score')\n",
    "plt.ylabel('Features')\n",
    "plt.title(\"Visualizing Important Features\")\n",
    "plt.legend()\n",
    "plt.show()"
   ]
  },
  {
   "cell_type": "code",
   "execution_count": null,
   "id": "efe0bed1",
   "metadata": {},
   "outputs": [],
   "source": []
  },
  {
   "cell_type": "code",
   "execution_count": null,
   "id": "fb2e9e7f",
   "metadata": {},
   "outputs": [],
   "source": []
  }
 ],
 "metadata": {
  "kernelspec": {
   "display_name": "Python 3 (ipykernel)",
   "language": "python",
   "name": "python3"
  },
  "language_info": {
   "codemirror_mode": {
    "name": "ipython",
    "version": 3
   },
   "file_extension": ".py",
   "mimetype": "text/x-python",
   "name": "python",
   "nbconvert_exporter": "python",
   "pygments_lexer": "ipython3",
   "version": "3.9.12"
  },
  "toc": {
   "base_numbering": 1,
   "nav_menu": {},
   "number_sections": true,
   "sideBar": true,
   "skip_h1_title": false,
   "title_cell": "Table of Contents",
   "title_sidebar": "Contents",
   "toc_cell": false,
   "toc_position": {
    "height": "calc(100% - 180px)",
    "left": "10px",
    "top": "150px",
    "width": "412px"
   },
   "toc_section_display": true,
   "toc_window_display": true
  }
 },
 "nbformat": 4,
 "nbformat_minor": 5
}
